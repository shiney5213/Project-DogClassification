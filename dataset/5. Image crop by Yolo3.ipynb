{
 "cells": [
  {
   "cell_type": "markdown",
   "metadata": {},
   "source": [
    "#  cropping and saving after deteching by yolo"
   ]
  },
  {
   "cell_type": "code",
   "execution_count": 17,
   "metadata": {
    "ExecuteTime": {
     "end_time": "2020-01-29T02:18:12.948954Z",
     "start_time": "2020-01-29T02:18:12.940966Z"
    }
   },
   "outputs": [],
   "source": [
    "import cv2 \n",
    "import argparse\n",
    "import numpy as np\n",
    "import os.path\n",
    "from matplotlib import pyplot as plt\n",
    "%matplotlib inline\n",
    "\n",
    "def imshow(tit, image) :\n",
    "    plt.title(tit)    \n",
    "    if len(image.shape) == 3 :\n",
    "        plt.imshow(cv2.cvtColor(image, cv2.COLOR_BGR2RGB))\n",
    "    else :\n",
    "        plt.imshow(image, cmap=\"gray\")\n",
    "    plt.show()"
   ]
  },
  {
   "cell_type": "markdown",
   "metadata": {},
   "source": [
    "## yolo model load"
   ]
  },
  {
   "cell_type": "code",
   "execution_count": 18,
   "metadata": {
    "ExecuteTime": {
     "end_time": "2020-01-29T02:13:09.974472Z",
     "start_time": "2020-01-29T02:13:09.694009Z"
    }
   },
   "outputs": [
    {
     "name": "stdout",
     "output_type": "stream",
     "text": [
      "['person', 'bicycle', 'car', 'motorbike', 'aeroplane', 'bus', 'train', 'truck', 'boat', 'traffic light', 'fire hydrant', 'stop sign', 'parking meter', 'bench', 'bird', 'cat', 'dog', 'horse', 'sheep', 'cow', 'elephant', 'bear', 'zebra', 'giraffe', 'backpack', 'umbrella', 'handbag', 'tie', 'suitcase', 'frisbee', 'skis', 'snowboard', 'sports ball', 'kite', 'baseball bat', 'baseball glove', 'skateboard', 'surfboard', 'tennis racket', 'bottle', 'wine glass', 'cup', 'fork', 'knife', 'spoon', 'bowl', 'banana', 'apple', 'sandwich', 'orange', 'broccoli', 'carrot', 'hot dog', 'pizza', 'donut', 'cake', 'chair', 'sofa', 'pottedplant', 'bed', 'diningtable', 'toilet', 'tvmonitor', 'laptop', 'mouse', 'remote', 'keyboard', 'cell phone', 'microwave', 'oven', 'toaster', 'sink', 'refrigerator', 'book', 'clock', 'vase', 'scissors', 'teddy bear', 'hair drier', 'toothbrush']\n"
     ]
    }
   ],
   "source": [
    "# Initialize the parameters\n",
    "confThreshold = 0.5  #Confidence threshold-> 낮은 값은 제거\n",
    "nmsThreshold = 0.4   #Non-maximum suppression threshold-> 거리가 가까우면 같은 class으로 봄\n",
    "# 모든 이미지를 416 * 416으로 변환\n",
    "inpWidth = 416       #Width of network's input image\n",
    "inpHeight = 416      #Height of network's input image\n",
    "\n",
    "\n",
    "# Load names of classes\n",
    "classesFile = \"./yolo/coco.names\" \n",
    "classes = None\n",
    "with open(classesFile, 'rt') as f:\n",
    "    classes = f.read().rstrip('\\n').split('\\n')\n",
    "print(classes)\n",
    "\n",
    "\n",
    "# yolo는 독자적인 파일을 사용함(옛날형식으로 )\n",
    "# Give the configuration and weight files for the model and load the network using them.\n",
    "modelConfiguration = \"./yolo/yolov3.cfg\"  # network 구조 정보\n",
    "modelWeights = \"./yolo/yolov3.weights\""
   ]
  },
  {
   "cell_type": "code",
   "execution_count": 19,
   "metadata": {
    "ExecuteTime": {
     "end_time": "2020-01-29T02:13:09.974472Z",
     "start_time": "2020-01-29T02:13:09.694009Z"
    }
   },
   "outputs": [],
   "source": [
    "net = cv2.dnn.readNetFromDarknet(modelConfiguration, modelWeights)\n",
    "net.setPreferableBackend(cv2.dnn.DNN_BACKEND_OPENCV)\n",
    "net.setPreferableTarget(cv2.dnn.DNN_TARGET_CPU)"
   ]
  },
  {
   "cell_type": "markdown",
   "metadata": {},
   "source": [
    "## make functions"
   ]
  },
  {
   "cell_type": "code",
   "execution_count": 20,
   "metadata": {
    "ExecuteTime": {
     "end_time": "2020-01-29T07:00:19.251504Z",
     "start_time": "2020-01-29T07:00:19.236685Z"
    }
   },
   "outputs": [],
   "source": [
    "# Get the names of the output layers\n",
    "def getOutputsNames(net):\n",
    "    # Get the names of all the layers in the network\n",
    "    layersNames = net.getLayerNames()\n",
    "    # Get the names of the output layers, i.e. the layers with unconnected outputs\n",
    "    return [layersNames[i[0] - 1] for i in net.getUnconnectedOutLayers()]"
   ]
  },
  {
   "cell_type": "code",
   "execution_count": 21,
   "metadata": {
    "ExecuteTime": {
     "end_time": "2020-01-29T07:00:19.653810Z",
     "start_time": "2020-01-29T07:00:19.644803Z"
    }
   },
   "outputs": [],
   "source": [
    "# Draw the predicted bounding box\n",
    "def crop_drawPred(dog_dir,classId, conf, left, top, right, bottom):\n",
    "    # Draw a bounding box.\n",
    "    cv2.rectangle(frame, (left, top), (right, bottom), (255, 178, 50), 3)\n",
    "    \n",
    "    label = '%.2f' % conf\n",
    "        \n",
    "    # Get the label for the class name and its confidence\n",
    "    if classes:\n",
    "        assert(classId < len(classes))\n",
    "        label = '%s:%s' % (classes[classId], label)\n",
    "\n",
    "    #Display the label at the top of the bounding box\n",
    "    labelSize, baseLine = cv2.getTextSize(label, cv2.FONT_HERSHEY_SIMPLEX, 0.5, 1)\n",
    "    top = max(top, labelSize[1])\n",
    "    cv2.rectangle(frame, (left, top - round(1.5*labelSize[1])), (left + round(1.5*labelSize[0]), top + baseLine), (255, 255, 255), cv2.FILLED)\n",
    "    cv2.putText(frame, label, (left, top), cv2.FONT_HERSHEY_SIMPLEX, 0.75, (0,0,0), 1)\n",
    "#     imshow('', frame)  "
   ]
  },
  {
   "cell_type": "code",
   "execution_count": 22,
   "metadata": {
    "ExecuteTime": {
     "end_time": "2020-01-29T07:20:06.869568Z",
     "start_time": "2020-01-29T07:20:06.861578Z"
    }
   },
   "outputs": [],
   "source": [
    "# Remove the bounding boxes with low confidence using non-maxima suppression\n",
    "def crop_postprocess(frame, outs,new_dogs_dir,new_dog_dir,idx):\n",
    "    frameHeight = frame.shape[0]\n",
    "    frameWidth = frame.shape[1]\n",
    "\n",
    "    # Scan through all the bounding boxes output from the network and keep only the\n",
    "    # ones with high confidence scores. Assign the box's class label as the class with the highest score.\n",
    "    classIds = []\n",
    "    confidences = []\n",
    "    boxes = []\n",
    "    centerX=[]\n",
    "    centerY=[]\n",
    "\n",
    "    for out in outs:\n",
    "        for detection in out:\n",
    "            scores = detection[5:]\n",
    "            classId = np.argmax(scores)\n",
    "            confidence = scores[classId]\n",
    "            if confidence > confThreshold:\n",
    "                center_x = int(detection[0] * frameWidth)\n",
    "                center_y = int(detection[1] * frameHeight)\n",
    "                width = int(detection[2] * frameWidth)\n",
    "                height = int(detection[3] * frameHeight)\n",
    "                left = int(center_x - width / 2)\n",
    "                top = int(center_y - height / 2)\n",
    "                classIds.append(classId)\n",
    "                confidences.append(float(confidence))\n",
    "                boxes.append([left, top, width, height])\n",
    "                centerX.append(center_x)\n",
    "                centerY.append(center_y)\n",
    "\n",
    "    # Perform non maximum suppression to eliminate redundant overlapping boxes with\n",
    "    # lower confidences.\n",
    "#     print(boxes)\n",
    "    indices = cv2.dnn.NMSBoxes(boxes, confidences, confThreshold, nmsThreshold)\n",
    "#     print(len(indices))\n",
    "    for i in indices:\n",
    "        i = i[0]\n",
    "        box = boxes[i]\n",
    "        x = centerX[i]\n",
    "        y = centerY[i]\n",
    "\n",
    "        left = box[0]\n",
    "        top = box[1]\n",
    "        width = box[2]\n",
    "        height = box[3]\n",
    "#         crop_drawPred(dog_dir,classIds[i], confidences[i], left, top, left + width, top + height)        \n",
    "        crop_image(new_dogs_dir,new_dog_dir,idx,i, classIds[i], confidences[i], left, top, width, height,x, y)\n",
    "   \n",
    "        "
   ]
  },
  {
   "cell_type": "code",
   "execution_count": 23,
   "metadata": {
    "ExecuteTime": {
     "end_time": "2020-01-29T08:09:04.670511Z",
     "start_time": "2020-01-29T08:09:04.660478Z"
    }
   },
   "outputs": [],
   "source": [
    "def crop_image(new_dogs_dir,new_dog_dir,idx,i, classIds, confidences, left, top, width, height,x, y):\n",
    "#     print(i,classIds, width, height)\n",
    "    if classIds == 16:\n",
    "        if width >= height:\n",
    "            left = int(x - width / 2)\n",
    "            top = int(y - width / 2)\n",
    "            right= int(x + width / 2)\n",
    "            bottom= int(y + width / 2)\n",
    "        else:\n",
    "            left = int(x - height / 2)\n",
    "            top = int(y - height / 2)\n",
    "            right= int(x + height / 2)\n",
    "            bottom= int(y + height / 2)\n",
    "\n",
    "        if left <0:\n",
    "            margin = np.abs(left)\n",
    "            left = 0\n",
    "            top = int(top + margin/2)\n",
    "            bottom = int(bottom - margin/2)\n",
    "\n",
    "        if top <0:\n",
    "            margin = np.abs(top)\n",
    "            top = 0\n",
    "            left = int(left + margin/2)\n",
    "            right = int(right - margin/2)\n",
    "\n",
    "\n",
    "        crop_img = frame_crop[top:bottom, left:right]\n",
    "        crop_img = cv2.cvtColor(crop_img, cv2.COLOR_RGB2BGR)\n",
    "        save_path = f\"{new_dogs_dir}/{new_dog_dir}_{idx}_{i}.jpg\"\n",
    "        cv2.imwrite(save_path, crop_img) \n",
    "#         imshow(\"cropped\", crop_img)"
   ]
  },
  {
   "cell_type": "markdown",
   "metadata": {},
   "source": [
    "##  img_path"
   ]
  },
  {
   "cell_type": "code",
   "execution_count": 31,
   "metadata": {
    "ExecuteTime": {
     "end_time": "2020-01-29T07:05:28.438390Z",
     "start_time": "2020-01-29T07:05:28.435392Z"
    }
   },
   "outputs": [],
   "source": [
    "import os"
   ]
  },
  {
   "cell_type": "code",
   "execution_count": 32,
   "metadata": {},
   "outputs": [],
   "source": [
    "base_path = '../data/'"
   ]
  },
  {
   "cell_type": "code",
   "execution_count": 34,
   "metadata": {},
   "outputs": [
    {
     "data": {
      "text/plain": [
       "'../data/5.merge(stanfold,identification,crawling)_120'"
      ]
     },
     "execution_count": 34,
     "metadata": {},
     "output_type": "execute_result"
    }
   ],
   "source": [
    "old_dir = os.path.join(base_path, '5.merge(stanfold,identification,crawling)_120').replace('\\\\','/')\n",
    "old_dir"
   ]
  },
  {
   "cell_type": "code",
   "execution_count": 35,
   "metadata": {},
   "outputs": [
    {
     "name": "stdout",
     "output_type": "stream",
     "text": [
      "[WinError 183] 파일이 이미 있으므로 만들 수 없습니다: '../data/6.image crop by YOLO3'\n"
     ]
    }
   ],
   "source": [
    "new_dir = '../data/6.image crop by YOLO3'\n",
    "try:\n",
    "    os.mkdir(new_dir)\n",
    "except Exception as err:\n",
    "    print(err)"
   ]
  },
  {
   "cell_type": "code",
   "execution_count": 38,
   "metadata": {
    "ExecuteTime": {
     "end_time": "2020-01-29T07:04:10.626291Z",
     "start_time": "2020-01-29T07:04:10.620271Z"
    }
   },
   "outputs": [
    {
     "data": {
      "text/plain": [
       "['affenpinscher',\n",
       " 'afghan_hound',\n",
       " 'airedaleterrier',\n",
       " 'akita',\n",
       " 'alaskanmalamute',\n",
       " 'americancockerspaniel',\n",
       " 'americaneskimodog',\n",
       " 'australian_terrier',\n",
       " 'basenji',\n",
       " 'bassethound',\n",
       " 'beagle',\n",
       " 'beardedcollie',\n",
       " 'bedlington_terrier',\n",
       " 'belgiansheepdoggroenendael',\n",
       " 'belgiansheepdoglaekenois',\n",
       " 'belgiansheepdogmalinois',\n",
       " 'belgiansheepdogtervuren',\n",
       " 'bernese_mountain_dog',\n",
       " 'bichonfrise',\n",
       " 'black-and-tan_coonhound',\n",
       " 'bloodhound',\n",
       " 'border_collie',\n",
       " 'border_terrier',\n",
       " 'borzoi',\n",
       " 'bostonterrier',\n",
       " 'boxer',\n",
       " 'brittanydog',\n",
       " 'brusselsgriffonr',\n",
       " 'bulldog',\n",
       " 'bullterrier',\n",
       " 'bull_mastiff',\n",
       " 'cairnterrier',\n",
       " 'caucasianavtcharka',\n",
       " 'chesapeake_bay_retriever',\n",
       " 'chihuahua',\n",
       " 'chinesecrested',\n",
       " 'chinesesharpei',\n",
       " 'chowchow',\n",
       " 'clumberspaniel',\n",
       " 'collie',\n",
       " 'curly-coated_retriever',\n",
       " 'dachshunds',\n",
       " 'dalmatian',\n",
       " 'dandiedinmontterrier',\n",
       " 'dobermanpinscher',\n",
       " 'englishcockerspaniel',\n",
       " 'englishspringerspaniel',\n",
       " 'english_setter',\n",
       " 'fieldspaniel',\n",
       " 'flat-coated_retriever',\n",
       " 'french_bulldog',\n",
       " 'germanshepherddog',\n",
       " 'german_short-haired_pointer',\n",
       " 'giant_schnauzer',\n",
       " 'golden_retriever',\n",
       " 'great_dane',\n",
       " 'great_pyrenees',\n",
       " 'greyhound',\n",
       " 'irish_setter',\n",
       " 'irish_terrier',\n",
       " 'irish_water_spaniel',\n",
       " 'irish_wolfhound',\n",
       " 'italian_greyhound',\n",
       " 'jackrusselterrier',\n",
       " 'japanesechin',\n",
       " 'japanesespitz',\n",
       " 'jindodog',\n",
       " 'kerry_blue_terrier',\n",
       " 'komondor',\n",
       " 'kuvasz',\n",
       " 'labrador_retriever',\n",
       " 'lakeland_terrier',\n",
       " 'lhasaapso',\n",
       " 'maltese',\n",
       " 'manchesterterriers',\n",
       " 'mastiff',\n",
       " 'miniature_pinscher',\n",
       " 'miniature_schnauzer',\n",
       " 'newfoundland',\n",
       " 'norfolk_terrier',\n",
       " 'norwegian_elkhound',\n",
       " 'norwich_terrier',\n",
       " 'old_english_sheepdog',\n",
       " 'papillon',\n",
       " 'pekingese',\n",
       " 'pointer',\n",
       " 'pomeranian',\n",
       " 'poodle',\n",
       " 'poongsandog',\n",
       " 'pug',\n",
       " 'puli',\n",
       " 'rhodesian_ridgeback',\n",
       " 'rottweiler',\n",
       " 'saint_bernard',\n",
       " 'saluki',\n",
       " 'samoyed',\n",
       " 'sapsaree',\n",
       " 'scottishterrier',\n",
       " 'sealyham_terrier',\n",
       " 'shetland_sheepdog',\n",
       " 'shiba',\n",
       " 'shih-tzu',\n",
       " 'siberian_husky',\n",
       " 'silky_terrier',\n",
       " 'skyeterrier',\n",
       " 'soft-coated_wheaten_terrier',\n",
       " 'southrussianovtcharka',\n",
       " 'staffordshire_bullterrier',\n",
       " 'sussex_spaniel',\n",
       " 'tibetanspaniel',\n",
       " 'tibetan_mastiff',\n",
       " 'tibetan_terrier',\n",
       " 'toymanchesterterrier',\n",
       " 'vizsla',\n",
       " 'weimaraner',\n",
       " 'welshcorgi',\n",
       " 'welshterrier',\n",
       " 'west_highland_white_terrier',\n",
       " 'whippet',\n",
       " 'wirehairedpointinggriffon',\n",
       " 'yorkshire_terrier']"
      ]
     },
     "execution_count": 38,
     "metadata": {},
     "output_type": "execute_result"
    }
   ],
   "source": [
    "dogs_dir = os.listdir(old_dir)\n",
    "dogs_dir"
   ]
  },
  {
   "cell_type": "code",
   "execution_count": null,
   "metadata": {
    "ExecuteTime": {
     "end_time": "2020-01-29T08:08:51.453082Z",
     "start_time": "2020-01-29T08:08:46.341870Z"
    }
   },
   "outputs": [
    {
     "name": "stderr",
     "output_type": "stream",
     "text": [
      "\n",
      "\n",
      "  0%|                                                                                          | 0/121 [00:00<?, ?it/s]\u001b[A\u001b[A"
     ]
    },
    {
     "name": "stdout",
     "output_type": "stream",
     "text": [
      "../data/5.merge(stanfold,identification,crawling)_120\\affenpinscher\n",
      "[WinError 183] 파일이 이미 있으므로 만들 수 없습니다: '../data/6.image crop by YOLO3/AFFENPINSCHER'\n",
      "../data/5.merge(stanfold,identification,crawling)_120\\affenpinscher\\affenpinscher37.jpeg\n",
      "OpenCV(4.1.1) C:\\projects\\opencv-python\\opencv\\modules\\imgproc\\src\\color.cpp:182: error: (-215:Assertion failed) !_src.empty() in function 'cv::cvtColor'\n",
      "\n"
     ]
    },
    {
     "name": "stderr",
     "output_type": "stream",
     "text": [
      "\n",
      "\n",
      "  1%|▋                                                                             | 1/121 [07:13<14:27:41, 433.84s/it]\u001b[A\u001b[A"
     ]
    },
    {
     "name": "stdout",
     "output_type": "stream",
     "text": [
      "../data/5.merge(stanfold,identification,crawling)_120\\afghan_hound\n"
     ]
    },
    {
     "name": "stderr",
     "output_type": "stream",
     "text": [
      "\n",
      "\n",
      "  2%|█▎                                                                            | 2/121 [17:08<15:55:57, 481.99s/it]\u001b[A\u001b[A"
     ]
    },
    {
     "name": "stdout",
     "output_type": "stream",
     "text": [
      "../data/5.merge(stanfold,identification,crawling)_120\\airedaleterrier\n",
      "../data/5.merge(stanfold,identification,crawling)_120\\airedaleterrier\\000147.jpeg\n",
      "OpenCV(4.1.1) C:\\projects\\opencv-python\\opencv\\modules\\imgproc\\src\\color.cpp:182: error: (-215:Assertion failed) !_src.empty() in function 'cv::cvtColor'\n",
      "\n"
     ]
    },
    {
     "name": "stderr",
     "output_type": "stream",
     "text": [
      "\n",
      "\n",
      "  2%|█▉                                                                            | 3/121 [24:25<15:21:38, 468.63s/it]\u001b[A\u001b[A"
     ]
    },
    {
     "name": "stdout",
     "output_type": "stream",
     "text": [
      "../data/5.merge(stanfold,identification,crawling)_120\\akita\n",
      "../data/5.merge(stanfold,identification,crawling)_120\\akita\\000290.jpeg\n",
      "OpenCV(4.1.1) C:\\projects\\opencv-python\\opencv\\modules\\imgproc\\src\\color.cpp:182: error: (-215:Assertion failed) !_src.empty() in function 'cv::cvtColor'\n",
      "\n"
     ]
    },
    {
     "name": "stderr",
     "output_type": "stream",
     "text": [
      "\n",
      "\n",
      "  3%|██▌                                                                           | 4/121 [31:55<15:02:57, 463.05s/it]\u001b[A\u001b[A"
     ]
    },
    {
     "name": "stdout",
     "output_type": "stream",
     "text": [
      "../data/5.merge(stanfold,identification,crawling)_120\\alaskanmalamute\n",
      "../data/5.merge(stanfold,identification,crawling)_120\\alaskanmalamute\\000048.jpeg\n",
      "OpenCV(4.1.1) C:\\projects\\opencv-python\\opencv\\modules\\imgproc\\src\\color.cpp:182: error: (-215:Assertion failed) !_src.empty() in function 'cv::cvtColor'\n",
      "\n",
      "../data/5.merge(stanfold,identification,crawling)_120\\alaskanmalamute\\000120.jpeg\n",
      "OpenCV(4.1.1) C:\\projects\\opencv-python\\opencv\\modules\\imgproc\\src\\color.cpp:182: error: (-215:Assertion failed) !_src.empty() in function 'cv::cvtColor'\n",
      "\n"
     ]
    },
    {
     "name": "stderr",
     "output_type": "stream",
     "text": [
      "\n",
      "\n",
      "  4%|███▏                                                                          | 5/121 [37:51<13:52:56, 430.83s/it]\u001b[A\u001b[A"
     ]
    },
    {
     "name": "stdout",
     "output_type": "stream",
     "text": [
      "../data/5.merge(stanfold,identification,crawling)_120\\americancockerspaniel\n"
     ]
    },
    {
     "name": "stderr",
     "output_type": "stream",
     "text": [
      "\n",
      "\n",
      "  5%|███▊                                                                          | 6/121 [44:41<13:34:07, 424.76s/it]\u001b[A\u001b[A"
     ]
    },
    {
     "name": "stdout",
     "output_type": "stream",
     "text": [
      "../data/5.merge(stanfold,identification,crawling)_120\\americaneskimodog\n",
      "../data/5.merge(stanfold,identification,crawling)_120\\americaneskimodog\\000046.jpeg\n",
      "OpenCV(4.1.1) C:\\projects\\opencv-python\\opencv\\modules\\imgproc\\src\\color.cpp:182: error: (-215:Assertion failed) !_src.empty() in function 'cv::cvtColor'\n",
      "\n"
     ]
    },
    {
     "name": "stderr",
     "output_type": "stream",
     "text": [
      "\n",
      "\n",
      "  6%|████▌                                                                         | 7/121 [50:13<12:33:43, 396.69s/it]\u001b[A\u001b[A"
     ]
    },
    {
     "name": "stdout",
     "output_type": "stream",
     "text": [
      "../data/5.merge(stanfold,identification,crawling)_120\\australian_terrier\n"
     ]
    },
    {
     "name": "stderr",
     "output_type": "stream",
     "text": [
      "\n",
      "\n",
      "  7%|█████▏                                                                        | 8/121 [59:36<14:01:32, 446.83s/it]\u001b[A\u001b[A"
     ]
    },
    {
     "name": "stdout",
     "output_type": "stream",
     "text": [
      "../data/5.merge(stanfold,identification,crawling)_120\\basenji\n"
     ]
    },
    {
     "name": "stderr",
     "output_type": "stream",
     "text": [
      "\n",
      "\n",
      "  7%|█████▋                                                                      | 9/121 [1:10:21<15:44:42, 506.10s/it]\u001b[A\u001b[A"
     ]
    },
    {
     "name": "stdout",
     "output_type": "stream",
     "text": [
      "../data/5.merge(stanfold,identification,crawling)_120\\bassethound\n"
     ]
    },
    {
     "name": "stderr",
     "output_type": "stream",
     "text": [
      "\n",
      "\n",
      "  8%|██████▏                                                                    | 10/121 [1:18:46<15:35:50, 505.86s/it]\u001b[A\u001b[A"
     ]
    },
    {
     "name": "stdout",
     "output_type": "stream",
     "text": [
      "../data/5.merge(stanfold,identification,crawling)_120\\beagle\n"
     ]
    }
   ],
   "source": [
    "from tqdm import tqdm\n",
    "\n",
    "for dog_dir in tqdm(dogs_dir):\n",
    "#     print(dog_dir)\n",
    "    dir_path = os.path.join(old_dir, dog_dir)\n",
    "    print(dir_path)\n",
    "    try:\n",
    "        new_dog_dir = str(dog_dir).upper()\n",
    "        new_dogs_dir =os.path.join(new_dir, new_dog_dir).replace('\\\\','/') \n",
    "#         print('new_dogs_dir',new_dogs_dir)\n",
    "        os.mkdir(new_dogs_dir)\n",
    "    except Exception as err:\n",
    "        print(err)\n",
    "    img_list = os.listdir(dir_path)\n",
    "\n",
    "    for idx, img_name in enumerate(img_list):\n",
    "#         print(idx, img_name)\n",
    "        img_path = os.path.join(dir_path, img_name)\n",
    "#         print(img_path)\n",
    "        try:\n",
    "            img = cv2.imread(img_path, 1)\n",
    "            frame =cv2.cvtColor(img, cv2.COLOR_BGR2RGB)\n",
    "        \n",
    "        # 오브젝트가 없는 경우\n",
    "        except Exception as err:\n",
    "            print(img_path)\n",
    "            print(err)\n",
    "            continue\n",
    "        frame_crop = frame.copy()\n",
    "        blob = cv2.dnn.blobFromImage(frame, 1/255, (inpWidth, inpHeight), [0,0,0], 1, crop=False)\n",
    "\n",
    "        net.setInput(blob)\n",
    "\n",
    "        outs = net.forward(getOutputsNames(net))\n",
    "\n",
    "        crop_postprocess(frame, outs, new_dogs_dir,new_dog_dir, idx)\n",
    "        "
   ]
  },
  {
   "cell_type": "code",
   "execution_count": null,
   "metadata": {},
   "outputs": [],
   "source": []
  },
  {
   "cell_type": "code",
   "execution_count": null,
   "metadata": {},
   "outputs": [],
   "source": []
  },
  {
   "cell_type": "code",
   "execution_count": null,
   "metadata": {},
   "outputs": [],
   "source": []
  }
 ],
 "metadata": {
  "kernelspec": {
   "display_name": "Python 3",
   "language": "python",
   "name": "python3"
  },
  "language_info": {
   "codemirror_mode": {
    "name": "ipython",
    "version": 3
   },
   "file_extension": ".py",
   "mimetype": "text/x-python",
   "name": "python",
   "nbconvert_exporter": "python",
   "pygments_lexer": "ipython3",
   "version": "3.7.6"
  },
  "toc": {
   "base_numbering": 1,
   "nav_menu": {},
   "number_sections": false,
   "sideBar": true,
   "skip_h1_title": false,
   "title_cell": "Table of Contents",
   "title_sidebar": "Contents",
   "toc_cell": false,
   "toc_position": {
    "height": "calc(100% - 180px)",
    "left": "10px",
    "top": "150px",
    "width": "239.469px"
   },
   "toc_section_display": true,
   "toc_window_display": true
  },
  "varInspector": {
   "cols": {
    "lenName": 16,
    "lenType": 16,
    "lenVar": 40
   },
   "kernels_config": {
    "python": {
     "delete_cmd_postfix": "",
     "delete_cmd_prefix": "del ",
     "library": "var_list.py",
     "varRefreshCmd": "print(var_dic_list())"
    },
    "r": {
     "delete_cmd_postfix": ") ",
     "delete_cmd_prefix": "rm(",
     "library": "var_list.r",
     "varRefreshCmd": "cat(var_dic_list()) "
    }
   },
   "types_to_exclude": [
    "module",
    "function",
    "builtin_function_or_method",
    "instance",
    "_Feature"
   ],
   "window_display": false
  }
 },
 "nbformat": 4,
 "nbformat_minor": 2
}
