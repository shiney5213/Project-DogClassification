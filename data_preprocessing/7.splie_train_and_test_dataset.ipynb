{
 "cells": [
  {
   "cell_type": "markdown",
   "metadata": {},
   "source": [
    "# split train and test data"
   ]
  },
  {
   "cell_type": "code",
   "execution_count": 17,
   "metadata": {},
   "outputs": [],
   "source": [
    "import os\n",
    "import shutil"
   ]
  },
  {
   "cell_type": "code",
   "execution_count": 2,
   "metadata": {},
   "outputs": [],
   "source": [
    "base_dir = '../data/6.image crop by YOLO3'"
   ]
  },
  {
   "cell_type": "code",
   "execution_count": 10,
   "metadata": {},
   "outputs": [],
   "source": [
    "new_train_dir = '../data/7.split train,test/train'\n",
    "new_test_dir = '../data/7.split train,test/test'\n",
    "\n",
    "try:\n",
    "    os.mkdir(new_train_dir)\n",
    "    os.mkdir(new_test_dir)\n",
    "except Exception as err:\n",
    "    print(err)"
   ]
  },
  {
   "cell_type": "code",
   "execution_count": 26,
   "metadata": {},
   "outputs": [
    {
     "data": {
      "text/plain": [
       "'\\\\'"
      ]
     },
     "execution_count": 26,
     "metadata": {},
     "output_type": "execute_result"
    }
   ],
   "source": [
    "os.path.sep"
   ]
  },
  {
   "cell_type": "code",
   "execution_count": 40,
   "metadata": {},
   "outputs": [
    {
     "name": "stdout",
     "output_type": "stream",
     "text": [
      "[WinError 183] 파일이 이미 있으므로 만들 수 없습니다: '../data/7.split train,test/test/AFFENPINSCHER'\n",
      "[WinError 183] 파일이 이미 있으므로 만들 수 없습니다: '../data/7.split train,test/train/AFFENPINSCHER'\n",
      "[WinError 183] 파일이 이미 있으므로 만들 수 없습니다: '../data/7.split train,test/test/AFGHAN_HOUND'\n",
      "[WinError 183] 파일이 이미 있으므로 만들 수 없습니다: '../data/7.split train,test/train/AFGHAN_HOUND'\n",
      "[WinError 183] 파일이 이미 있으므로 만들 수 없습니다: '../data/7.split train,test/test/AIREDALETERRIER'\n",
      "[WinError 183] 파일이 이미 있으므로 만들 수 없습니다: '../data/7.split train,test/train/AIREDALETERRIER'\n",
      "[WinError 183] 파일이 이미 있으므로 만들 수 없습니다: '../data/7.split train,test/test/AKITA'\n",
      "[WinError 183] 파일이 이미 있으므로 만들 수 없습니다: '../data/7.split train,test/train/AKITA'\n",
      "[WinError 183] 파일이 이미 있으므로 만들 수 없습니다: '../data/7.split train,test/test/ALASKANMALAMUTE'\n",
      "[WinError 183] 파일이 이미 있으므로 만들 수 없습니다: '../data/7.split train,test/train/ALASKANMALAMUTE'\n",
      "[WinError 183] 파일이 이미 있으므로 만들 수 없습니다: '../data/7.split train,test/test/AMERICANCOCKERSPANIEL'\n",
      "[WinError 183] 파일이 이미 있으므로 만들 수 없습니다: '../data/7.split train,test/train/AMERICANCOCKERSPANIEL'\n",
      "[WinError 183] 파일이 이미 있으므로 만들 수 없습니다: '../data/7.split train,test/test/AMERICANESKIMODOG'\n",
      "[WinError 183] 파일이 이미 있으므로 만들 수 없습니다: '../data/7.split train,test/train/AMERICANESKIMODOG'\n",
      "[WinError 183] 파일이 이미 있으므로 만들 수 없습니다: '../data/7.split train,test/test/AUSTRALIAN_TERRIER'\n",
      "[WinError 183] 파일이 이미 있으므로 만들 수 없습니다: '../data/7.split train,test/train/AUSTRALIAN_TERRIER'\n",
      "[WinError 183] 파일이 이미 있으므로 만들 수 없습니다: '../data/7.split train,test/test/BASENJI'\n",
      "[WinError 183] 파일이 이미 있으므로 만들 수 없습니다: '../data/7.split train,test/train/BASENJI'\n",
      "[WinError 183] 파일이 이미 있으므로 만들 수 없습니다: '../data/7.split train,test/test/BASSETHOUND'\n",
      "[WinError 183] 파일이 이미 있으므로 만들 수 없습니다: '../data/7.split train,test/train/BASSETHOUND'\n",
      "[WinError 183] 파일이 이미 있으므로 만들 수 없습니다: '../data/7.split train,test/test/BEAGLE'\n",
      "[WinError 183] 파일이 이미 있으므로 만들 수 없습니다: '../data/7.split train,test/train/BEAGLE'\n",
      "[WinError 183] 파일이 이미 있으므로 만들 수 없습니다: '../data/7.split train,test/test/BEARDEDCOLLIE'\n",
      "[WinError 183] 파일이 이미 있으므로 만들 수 없습니다: '../data/7.split train,test/train/BEARDEDCOLLIE'\n",
      "[WinError 183] 파일이 이미 있으므로 만들 수 없습니다: '../data/7.split train,test/test/BEDLINGTON_TERRIER'\n",
      "[WinError 183] 파일이 이미 있으므로 만들 수 없습니다: '../data/7.split train,test/train/BEDLINGTON_TERRIER'\n",
      "[WinError 183] 파일이 이미 있으므로 만들 수 없습니다: '../data/7.split train,test/test/BELGIANSHEEPDOGGROENENDAEL'\n",
      "[WinError 183] 파일이 이미 있으므로 만들 수 없습니다: '../data/7.split train,test/train/BELGIANSHEEPDOGGROENENDAEL'\n",
      "[WinError 183] 파일이 이미 있으므로 만들 수 없습니다: '../data/7.split train,test/test/BELGIANSHEEPDOGLAEKENOIS'\n",
      "[WinError 183] 파일이 이미 있으므로 만들 수 없습니다: '../data/7.split train,test/train/BELGIANSHEEPDOGLAEKENOIS'\n",
      "[WinError 183] 파일이 이미 있으므로 만들 수 없습니다: '../data/7.split train,test/test/BELGIANSHEEPDOGMALINOIS'\n",
      "[WinError 183] 파일이 이미 있으므로 만들 수 없습니다: '../data/7.split train,test/train/BELGIANSHEEPDOGMALINOIS'\n",
      "[WinError 183] 파일이 이미 있으므로 만들 수 없습니다: '../data/7.split train,test/test/BELGIANSHEEPDOGTERVUREN'\n",
      "[WinError 183] 파일이 이미 있으므로 만들 수 없습니다: '../data/7.split train,test/train/BELGIANSHEEPDOGTERVUREN'\n",
      "[WinError 183] 파일이 이미 있으므로 만들 수 없습니다: '../data/7.split train,test/test/BERNESE_MOUNTAIN_DOG'\n",
      "[WinError 183] 파일이 이미 있으므로 만들 수 없습니다: '../data/7.split train,test/train/BERNESE_MOUNTAIN_DOG'\n",
      "[WinError 183] 파일이 이미 있으므로 만들 수 없습니다: '../data/7.split train,test/test/BICHONFRISE'\n",
      "[WinError 183] 파일이 이미 있으므로 만들 수 없습니다: '../data/7.split train,test/train/BICHONFRISE'\n"
     ]
    }
   ],
   "source": [
    "for root, dirs, files in os.walk(base_dir):\n",
    "    for i,file in enumerate(files):\n",
    "        old_img_path = os.path.join(root, file)\n",
    "        img_name =os.path.split(old_img_path)[1]\n",
    "        dir_name = old_img_path.split(os.path.sep)[-2]\n",
    "        \n",
    "        if i < 100:\n",
    "            new_img_path = os.path.join(new_test_dir, dir_name).replace('\\\\','/')\n",
    "            if i == 1:\n",
    "                try: \n",
    "                    os.mkdir(new_img_path)\n",
    "                except Exception as err:\n",
    "                    print(err)\n",
    "        else:\n",
    "            new_img_path = os.path.join(new_train_dir, dir_name).replace('\\\\','/')\n",
    "\n",
    "            if i == 100:\n",
    "                try: \n",
    "                    os.mkdir(new_img_path)\n",
    "                except Exception as err:\n",
    "                    print(err)\n",
    "        shutil.copy(old_img_path, new_img_path)\n",
    "            \n",
    "    "
   ]
  },
  {
   "cell_type": "code",
   "execution_count": null,
   "metadata": {},
   "outputs": [],
   "source": []
  }
 ],
 "metadata": {
  "kernelspec": {
   "display_name": "Python 3",
   "language": "python",
   "name": "python3"
  },
  "language_info": {
   "codemirror_mode": {
    "name": "ipython",
    "version": 3
   },
   "file_extension": ".py",
   "mimetype": "text/x-python",
   "name": "python",
   "nbconvert_exporter": "python",
   "pygments_lexer": "ipython3",
   "version": "3.7.6"
  },
  "toc": {
   "base_numbering": 1,
   "nav_menu": {},
   "number_sections": false,
   "sideBar": true,
   "skip_h1_title": false,
   "title_cell": "Table of Contents",
   "title_sidebar": "Contents",
   "toc_cell": false,
   "toc_position": {},
   "toc_section_display": true,
   "toc_window_display": false
  }
 },
 "nbformat": 4,
 "nbformat_minor": 2
}
