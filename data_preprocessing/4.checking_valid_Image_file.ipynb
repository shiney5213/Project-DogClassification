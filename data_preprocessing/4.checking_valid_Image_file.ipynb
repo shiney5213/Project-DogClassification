{
 "cells": [
  {
   "cell_type": "markdown",
   "metadata": {
    "colab_type": "text",
    "id": "8IgfM9wJcH6N"
   },
   "source": [
    "### 유효이미지만 저장하기"
   ]
  },
  {
   "cell_type": "code",
   "execution_count": 2,
   "metadata": {},
   "outputs": [],
   "source": [
    "import os"
   ]
  },
  {
   "cell_type": "code",
   "execution_count": 3,
   "metadata": {
    "colab": {
     "base_uri": "https://localhost:8080/",
     "height": 34
    },
    "colab_type": "code",
    "id": "BfnfCVRSgdJH",
    "outputId": "e3ba5d4f-73c9-4ce2-b223-56a614b9770e"
   },
   "outputs": [],
   "source": [
    "img_dir = '../data/5.merge(stanfold,identification,crawling)_120'"
   ]
  },
  {
   "cell_type": "markdown",
   "metadata": {
    "colab_type": "text",
    "id": "vTPbvzv91vXJ"
   },
   "source": [
    "### Image 파일 jpeg 으로 통일"
   ]
  },
  {
   "cell_type": "code",
   "execution_count": 13,
   "metadata": {
    "colab": {
     "base_uri": "https://localhost:8080/",
     "height": 375
    },
    "colab_type": "code",
    "id": "T3g85BL39ouL",
    "outputId": "751d19d8-51b5-4f93-dfd1-d0404dd82425"
   },
   "outputs": [
    {
     "name": "stderr",
     "output_type": "stream",
     "text": [
      "0it [00:00, ?it/s]\n",
      "100%|███████████████████████████████████████████████████████████████████████████████| 324/324 [00:00<00:00, 475.07it/s]\n",
      "100%|███████████████████████████████████████████████████████████████████████████████| 447/447 [00:00<00:00, 475.02it/s]\n",
      "100%|███████████████████████████████████████████████████████████████████████████████| 326/326 [00:00<00:00, 533.55it/s]\n",
      "100%|███████████████████████████████████████████████████████████████████████████████| 333/333 [00:00<00:00, 523.58it/s]\n",
      "100%|███████████████████████████████████████████████████████████████████████████████| 252/252 [00:00<00:00, 523.91it/s]\n",
      "100%|███████████████████████████████████████████████████████████████████████████████| 287/287 [00:00<00:00, 462.90it/s]\n",
      " 38%|██████████████████████████████                                                  | 89/237 [00:00<00:00, 431.78it/s]"
     ]
    },
    {
     "name": "stdout",
     "output_type": "stream",
     "text": [
      "[WinError 183] 파일이 이미 있으므로 만들 수 없습니다: '../data/5.merge(stanfold,identification,crawling)_120\\\\americaneskimodog\\\\000011.jpg' -> '../data/5.merge(stanfold,identification,crawling)_120\\\\americaneskimodog\\\\000011.jpeg'\n",
      "[WinError 183] 파일이 이미 있으므로 만들 수 없습니다: '../data/5.merge(stanfold,identification,crawling)_120\\\\americaneskimodog\\\\000019.jpg' -> '../data/5.merge(stanfold,identification,crawling)_120\\\\americaneskimodog\\\\000019.jpeg'\n",
      "[WinError 183] 파일이 이미 있으므로 만들 수 없습니다: '../data/5.merge(stanfold,identification,crawling)_120\\\\americaneskimodog\\\\000029.jpg' -> '../data/5.merge(stanfold,identification,crawling)_120\\\\americaneskimodog\\\\000029.jpeg'\n",
      "[WinError 183] 파일이 이미 있으므로 만들 수 없습니다: '../data/5.merge(stanfold,identification,crawling)_120\\\\americaneskimodog\\\\000032.png' -> '../data/5.merge(stanfold,identification,crawling)_120\\\\americaneskimodog\\\\000032.jpeg'\n",
      "[WinError 183] 파일이 이미 있으므로 만들 수 없습니다: '../data/5.merge(stanfold,identification,crawling)_120\\\\americaneskimodog\\\\000035.jpg' -> '../data/5.merge(stanfold,identification,crawling)_120\\\\americaneskimodog\\\\000035.jpeg'\n",
      "[WinError 183] 파일이 이미 있으므로 만들 수 없습니다: '../data/5.merge(stanfold,identification,crawling)_120\\\\americaneskimodog\\\\000041.jpg' -> '../data/5.merge(stanfold,identification,crawling)_120\\\\americaneskimodog\\\\000041.jpeg'\n",
      "[WinError 183] 파일이 이미 있으므로 만들 수 없습니다: '../data/5.merge(stanfold,identification,crawling)_120\\\\americaneskimodog\\\\000044.png' -> '../data/5.merge(stanfold,identification,crawling)_120\\\\americaneskimodog\\\\000044.jpeg'\n",
      "[WinError 183] 파일이 이미 있으므로 만들 수 없습니다: '../data/5.merge(stanfold,identification,crawling)_120\\\\americaneskimodog\\\\000046.jpg' -> '../data/5.merge(stanfold,identification,crawling)_120\\\\americaneskimodog\\\\000046.jpeg'\n",
      "[WinError 183] 파일이 이미 있으므로 만들 수 없습니다: '../data/5.merge(stanfold,identification,crawling)_120\\\\americaneskimodog\\\\000049.png' -> '../data/5.merge(stanfold,identification,crawling)_120\\\\americaneskimodog\\\\000049.jpeg'\n",
      "[WinError 183] 파일이 이미 있으므로 만들 수 없습니다: '../data/5.merge(stanfold,identification,crawling)_120\\\\americaneskimodog\\\\000050.jpg' -> '../data/5.merge(stanfold,identification,crawling)_120\\\\americaneskimodog\\\\000050.jpeg'\n",
      "[WinError 183] 파일이 이미 있으므로 만들 수 없습니다: '../data/5.merge(stanfold,identification,crawling)_120\\\\americaneskimodog\\\\000053.png' -> '../data/5.merge(stanfold,identification,crawling)_120\\\\americaneskimodog\\\\000053.jpeg'\n",
      "[WinError 183] 파일이 이미 있으므로 만들 수 없습니다: '../data/5.merge(stanfold,identification,crawling)_120\\\\americaneskimodog\\\\000054.png' -> '../data/5.merge(stanfold,identification,crawling)_120\\\\americaneskimodog\\\\000054.jpeg'\n",
      "[WinError 183] 파일이 이미 있으므로 만들 수 없습니다: '../data/5.merge(stanfold,identification,crawling)_120\\\\americaneskimodog\\\\000055.png' -> '../data/5.merge(stanfold,identification,crawling)_120\\\\americaneskimodog\\\\000055.jpeg'\n",
      "[WinError 183] 파일이 이미 있으므로 만들 수 없습니다: '../data/5.merge(stanfold,identification,crawling)_120\\\\americaneskimodog\\\\000064.jpg' -> '../data/5.merge(stanfold,identification,crawling)_120\\\\americaneskimodog\\\\000064.jpeg'\n",
      "[WinError 183] 파일이 이미 있으므로 만들 수 없습니다: '../data/5.merge(stanfold,identification,crawling)_120\\\\americaneskimodog\\\\000071.png' -> '../data/5.merge(stanfold,identification,crawling)_120\\\\americaneskimodog\\\\000071.jpeg'\n"
     ]
    },
    {
     "name": "stderr",
     "output_type": "stream",
     "text": [
      " 70%|███████████████████████████████████████████████████████▎                       | 166/237 [00:00<00:00, 403.00it/s]"
     ]
    },
    {
     "name": "stdout",
     "output_type": "stream",
     "text": [
      "[WinError 183] 파일이 이미 있으므로 만들 수 없습니다: '../data/5.merge(stanfold,identification,crawling)_120\\\\americaneskimodog\\\\000082.jpg' -> '../data/5.merge(stanfold,identification,crawling)_120\\\\americaneskimodog\\\\000082.jpeg'\n",
      "[WinError 183] 파일이 이미 있으므로 만들 수 없습니다: '../data/5.merge(stanfold,identification,crawling)_120\\\\americaneskimodog\\\\000083.jpg' -> '../data/5.merge(stanfold,identification,crawling)_120\\\\americaneskimodog\\\\000083.jpeg'\n",
      "[WinError 183] 파일이 이미 있으므로 만들 수 없습니다: '../data/5.merge(stanfold,identification,crawling)_120\\\\americaneskimodog\\\\000084.jpg' -> '../data/5.merge(stanfold,identification,crawling)_120\\\\americaneskimodog\\\\000084.jpeg'\n",
      "[WinError 183] 파일이 이미 있으므로 만들 수 없습니다: '../data/5.merge(stanfold,identification,crawling)_120\\\\americaneskimodog\\\\000094.jpg' -> '../data/5.merge(stanfold,identification,crawling)_120\\\\americaneskimodog\\\\000094.jpeg'\n",
      "[WinError 183] 파일이 이미 있으므로 만들 수 없습니다: '../data/5.merge(stanfold,identification,crawling)_120\\\\americaneskimodog\\\\000101.png' -> '../data/5.merge(stanfold,identification,crawling)_120\\\\americaneskimodog\\\\000101.jpeg'\n",
      "[WinError 183] 파일이 이미 있으므로 만들 수 없습니다: '../data/5.merge(stanfold,identification,crawling)_120\\\\americaneskimodog\\\\000108.png' -> '../data/5.merge(stanfold,identification,crawling)_120\\\\americaneskimodog\\\\000108.jpeg'\n",
      "[WinError 183] 파일이 이미 있으므로 만들 수 없습니다: '../data/5.merge(stanfold,identification,crawling)_120\\\\americaneskimodog\\\\000109.png' -> '../data/5.merge(stanfold,identification,crawling)_120\\\\americaneskimodog\\\\000109.jpeg'\n",
      "[WinError 183] 파일이 이미 있으므로 만들 수 없습니다: '../data/5.merge(stanfold,identification,crawling)_120\\\\americaneskimodog\\\\000115.jpg' -> '../data/5.merge(stanfold,identification,crawling)_120\\\\americaneskimodog\\\\000115.jpeg'\n",
      "[WinError 183] 파일이 이미 있으므로 만들 수 없습니다: '../data/5.merge(stanfold,identification,crawling)_120\\\\americaneskimodog\\\\000117.png' -> '../data/5.merge(stanfold,identification,crawling)_120\\\\americaneskimodog\\\\000117.jpeg'\n",
      "[WinError 183] 파일이 이미 있으므로 만들 수 없습니다: '../data/5.merge(stanfold,identification,crawling)_120\\\\americaneskimodog\\\\000118.jpg' -> '../data/5.merge(stanfold,identification,crawling)_120\\\\americaneskimodog\\\\000118.jpeg'\n"
     ]
    },
    {
     "name": "stderr",
     "output_type": "stream",
     "text": [
      "100%|███████████████████████████████████████████████████████████████████████████████| 237/237 [00:00<00:00, 396.98it/s]\n",
      "100%|███████████████████████████████████████████████████████████████████████████████| 387/387 [00:00<00:00, 401.87it/s]\n",
      "100%|███████████████████████████████████████████████████████████████████████████████| 412/412 [00:01<00:00, 336.05it/s]\n",
      "100%|███████████████████████████████████████████████████████████████████████████████| 333/333 [00:01<00:00, 287.31it/s]\n",
      "100%|███████████████████████████████████████████████████████████████████████████████| 391/391 [00:01<00:00, 314.05it/s]\n",
      "100%|███████████████████████████████████████████████████████████████████████████████| 220/220 [00:00<00:00, 305.98it/s]\n",
      "100%|███████████████████████████████████████████████████████████████████████████████| 359/359 [00:01<00:00, 314.63it/s]\n",
      "100%|███████████████████████████████████████████████████████████████████████████████| 197/197 [00:00<00:00, 291.85it/s]\n",
      "100%|███████████████████████████████████████████████████████████████████████████████| 254/254 [00:00<00:00, 350.34it/s]\n",
      "100%|███████████████████████████████████████████████████████████████████████████████| 208/208 [00:00<00:00, 358.00it/s]\n",
      "100%|███████████████████████████████████████████████████████████████████████████████| 320/320 [00:01<00:00, 304.18it/s]\n",
      "100%|███████████████████████████████████████████████████████████████████████████████| 332/332 [00:01<00:00, 280.17it/s]\n",
      "100%|███████████████████████████████████████████████████████████████████████████████| 328/328 [00:00<00:00, 335.03it/s]\n",
      "100%|███████████████████████████████████████████████████████████████████████████████| 329/329 [00:00<00:00, 350.37it/s]\n",
      "100%|███████████████████████████████████████████████████████████████████████████████| 365/365 [00:01<00:00, 342.40it/s]\n",
      "100%|███████████████████████████████████████████████████████████████████████████████| 222/222 [00:00<00:00, 354.06it/s]\n",
      "100%|███████████████████████████████████████████████████████████████████████████████| 347/347 [00:01<00:00, 314.59it/s]\n",
      "100%|███████████████████████████████████████████████████████████████████████████████| 318/318 [00:01<00:00, 238.20it/s]\n",
      "100%|███████████████████████████████████████████████████████████████████████████████| 310/310 [00:01<00:00, 255.77it/s]\n",
      "100%|███████████████████████████████████████████████████████████████████████████████| 313/313 [00:01<00:00, 279.71it/s]\n",
      "100%|███████████████████████████████████████████████████████████████████████████████| 262/262 [00:00<00:00, 290.46it/s]\n",
      " 17%|█████████████▊                                                                  | 63/366 [00:00<00:00, 306.69it/s]"
     ]
    },
    {
     "name": "stdout",
     "output_type": "stream",
     "text": [
      "[WinError 183] 파일이 이미 있으므로 만들 수 없습니다: '../data/5.merge(stanfold,identification,crawling)_120\\\\brusselsgriffonr\\\\000015.jpg' -> '../data/5.merge(stanfold,identification,crawling)_120\\\\brusselsgriffonr\\\\000015.jpeg'\n",
      "[WinError 183] 파일이 이미 있으므로 만들 수 없습니다: '../data/5.merge(stanfold,identification,crawling)_120\\\\brusselsgriffonr\\\\000030.png' -> '../data/5.merge(stanfold,identification,crawling)_120\\\\brusselsgriffonr\\\\000030.jpeg'\n",
      "[WinError 183] 파일이 이미 있으므로 만들 수 없습니다: '../data/5.merge(stanfold,identification,crawling)_120\\\\brusselsgriffonr\\\\000034.jpg' -> '../data/5.merge(stanfold,identification,crawling)_120\\\\brusselsgriffonr\\\\000034.jpeg'\n",
      "[WinError 183] 파일이 이미 있으므로 만들 수 없습니다: '../data/5.merge(stanfold,identification,crawling)_120\\\\brusselsgriffonr\\\\000035.png' -> '../data/5.merge(stanfold,identification,crawling)_120\\\\brusselsgriffonr\\\\000035.jpeg'\n",
      "[WinError 183] 파일이 이미 있으므로 만들 수 없습니다: '../data/5.merge(stanfold,identification,crawling)_120\\\\brusselsgriffonr\\\\000036.png' -> '../data/5.merge(stanfold,identification,crawling)_120\\\\brusselsgriffonr\\\\000036.jpeg'\n",
      "[WinError 183] 파일이 이미 있으므로 만들 수 없습니다: '../data/5.merge(stanfold,identification,crawling)_120\\\\brusselsgriffonr\\\\000039.jpg' -> '../data/5.merge(stanfold,identification,crawling)_120\\\\brusselsgriffonr\\\\000039.jpeg'\n",
      "[WinError 183] 파일이 이미 있으므로 만들 수 없습니다: '../data/5.merge(stanfold,identification,crawling)_120\\\\brusselsgriffonr\\\\000041.png' -> '../data/5.merge(stanfold,identification,crawling)_120\\\\brusselsgriffonr\\\\000041.jpeg'\n",
      "[WinError 183] 파일이 이미 있으므로 만들 수 없습니다: '../data/5.merge(stanfold,identification,crawling)_120\\\\brusselsgriffonr\\\\000057.png' -> '../data/5.merge(stanfold,identification,crawling)_120\\\\brusselsgriffonr\\\\000057.jpeg'\n",
      "[WinError 183] 파일이 이미 있으므로 만들 수 없습니다: '../data/5.merge(stanfold,identification,crawling)_120\\\\brusselsgriffonr\\\\000062.png' -> '../data/5.merge(stanfold,identification,crawling)_120\\\\brusselsgriffonr\\\\000062.jpeg'\n",
      "[WinError 183] 파일이 이미 있으므로 만들 수 없습니다: '../data/5.merge(stanfold,identification,crawling)_120\\\\brusselsgriffonr\\\\000065.jpg' -> '../data/5.merge(stanfold,identification,crawling)_120\\\\brusselsgriffonr\\\\000065.jpeg'"
     ]
    },
    {
     "name": "stderr",
     "output_type": "stream",
     "text": [
      " 32%|█████████████████████████▎                                                     | 117/366 [00:00<00:00, 286.07it/s]"
     ]
    },
    {
     "name": "stdout",
     "output_type": "stream",
     "text": [
      "\n",
      "[WinError 183] 파일이 이미 있으므로 만들 수 없습니다: '../data/5.merge(stanfold,identification,crawling)_120\\\\brusselsgriffonr\\\\000069.jpg' -> '../data/5.merge(stanfold,identification,crawling)_120\\\\brusselsgriffonr\\\\000069.jpeg'\n",
      "[WinError 183] 파일이 이미 있으므로 만들 수 없습니다: '../data/5.merge(stanfold,identification,crawling)_120\\\\brusselsgriffonr\\\\000080.png' -> '../data/5.merge(stanfold,identification,crawling)_120\\\\brusselsgriffonr\\\\000080.jpeg'\n",
      "[WinError 183] 파일이 이미 있으므로 만들 수 없습니다: '../data/5.merge(stanfold,identification,crawling)_120\\\\brusselsgriffonr\\\\000081.jpg' -> '../data/5.merge(stanfold,identification,crawling)_120\\\\brusselsgriffonr\\\\000081.jpeg'\n",
      "[WinError 183] 파일이 이미 있으므로 만들 수 없습니다: '../data/5.merge(stanfold,identification,crawling)_120\\\\brusselsgriffonr\\\\000106.jpg' -> '../data/5.merge(stanfold,identification,crawling)_120\\\\brusselsgriffonr\\\\000106.jpeg'\n",
      "[WinError 183] 파일이 이미 있으므로 만들 수 없습니다: '../data/5.merge(stanfold,identification,crawling)_120\\\\brusselsgriffonr\\\\000109.png' -> '../data/5.merge(stanfold,identification,crawling)_120\\\\brusselsgriffonr\\\\000109.jpeg'"
     ]
    },
    {
     "name": "stderr",
     "output_type": "stream",
     "text": [
      " 49%|██████████████████████████████████████▋                                        | 179/366 [00:00<00:00, 296.40it/s]"
     ]
    },
    {
     "name": "stdout",
     "output_type": "stream",
     "text": [
      "\n",
      "[WinError 183] 파일이 이미 있으므로 만들 수 없습니다: '../data/5.merge(stanfold,identification,crawling)_120\\\\brusselsgriffonr\\\\000111.png' -> '../data/5.merge(stanfold,identification,crawling)_120\\\\brusselsgriffonr\\\\000111.jpeg'\n",
      "[WinError 183] 파일이 이미 있으므로 만들 수 없습니다: '../data/5.merge(stanfold,identification,crawling)_120\\\\brusselsgriffonr\\\\000135.png' -> '../data/5.merge(stanfold,identification,crawling)_120\\\\brusselsgriffonr\\\\000135.jpeg'\n",
      "[WinError 183] 파일이 이미 있으므로 만들 수 없습니다: '../data/5.merge(stanfold,identification,crawling)_120\\\\brusselsgriffonr\\\\000136.png' -> '../data/5.merge(stanfold,identification,crawling)_120\\\\brusselsgriffonr\\\\000136.jpeg'\n",
      "[WinError 183] 파일이 이미 있으므로 만들 수 없습니다: '../data/5.merge(stanfold,identification,crawling)_120\\\\brusselsgriffonr\\\\000144.png' -> '../data/5.merge(stanfold,identification,crawling)_120\\\\brusselsgriffonr\\\\000144.jpeg'\n",
      "[WinError 183] 파일이 이미 있으므로 만들 수 없습니다: '../data/5.merge(stanfold,identification,crawling)_120\\\\brusselsgriffonr\\\\000153.png' -> '../data/5.merge(stanfold,identification,crawling)_120\\\\brusselsgriffonr\\\\000153.jpeg'\n"
     ]
    },
    {
     "name": "stderr",
     "output_type": "stream",
     "text": [
      " 65%|███████████████████████████████████████████████████▌                           | 239/366 [00:00<00:00, 295.08it/s]"
     ]
    },
    {
     "name": "stdout",
     "output_type": "stream",
     "text": [
      "[WinError 183] 파일이 이미 있으므로 만들 수 없습니다: '../data/5.merge(stanfold,identification,crawling)_120\\\\brusselsgriffonr\\\\000167.jpg' -> '../data/5.merge(stanfold,identification,crawling)_120\\\\brusselsgriffonr\\\\000167.jpeg'\n",
      "[WinError 183] 파일이 이미 있으므로 만들 수 없습니다: '../data/5.merge(stanfold,identification,crawling)_120\\\\brusselsgriffonr\\\\000170.jpg' -> '../data/5.merge(stanfold,identification,crawling)_120\\\\brusselsgriffonr\\\\000170.jpeg'\n",
      "[WinError 183] 파일이 이미 있으므로 만들 수 없습니다: '../data/5.merge(stanfold,identification,crawling)_120\\\\brusselsgriffonr\\\\000177.png' -> '../data/5.merge(stanfold,identification,crawling)_120\\\\brusselsgriffonr\\\\000177.jpeg'\n",
      "[WinError 183] 파일이 이미 있으므로 만들 수 없습니다: '../data/5.merge(stanfold,identification,crawling)_120\\\\brusselsgriffonr\\\\000181.jpg' -> '../data/5.merge(stanfold,identification,crawling)_120\\\\brusselsgriffonr\\\\000181.jpeg'\n"
     ]
    },
    {
     "name": "stderr",
     "output_type": "stream",
     "text": [
      "100%|███████████████████████████████████████████████████████████████████████████████| 366/366 [00:01<00:00, 296.11it/s]\n",
      "100%|███████████████████████████████████████████████████████████████████████████████| 332/332 [00:01<00:00, 264.12it/s]\n",
      "100%|███████████████████████████████████████████████████████████████████████████████| 261/261 [00:00<00:00, 295.92it/s]\n",
      "100%|███████████████████████████████████████████████████████████████████████████████| 322/322 [00:01<00:00, 296.22it/s]\n",
      "100%|███████████████████████████████████████████████████████████████████████████████| 243/243 [00:00<00:00, 260.73it/s]\n",
      "100%|███████████████████████████████████████████████████████████████████████████████| 319/319 [00:01<00:00, 230.66it/s]\n",
      "100%|███████████████████████████████████████████████████████████████████████████████| 341/341 [00:01<00:00, 303.11it/s]\n",
      "100%|███████████████████████████████████████████████████████████████████████████████| 319/319 [00:01<00:00, 273.35it/s]\n",
      "100%|███████████████████████████████████████████████████████████████████████████████| 230/230 [00:00<00:00, 286.78it/s]\n",
      "100%|███████████████████████████████████████████████████████████████████████████████| 266/266 [00:00<00:00, 266.53it/s]\n",
      "100%|███████████████████████████████████████████████████████████████████████████████| 221/221 [00:00<00:00, 251.99it/s]\n",
      "100%|███████████████████████████████████████████████████████████████████████████████| 271/271 [00:00<00:00, 293.29it/s]\n",
      "100%|███████████████████████████████████████████████████████████████████████████████| 335/335 [00:01<00:00, 320.27it/s]\n",
      "100%|███████████████████████████████████████████████████████████████████████████████| 317/317 [00:00<00:00, 320.52it/s]\n",
      "100%|███████████████████████████████████████████████████████████████████████████████| 323/323 [00:01<00:00, 297.15it/s]\n",
      "100%|███████████████████████████████████████████████████████████████████████████████| 249/249 [00:00<00:00, 301.45it/s]\n",
      "100%|███████████████████████████████████████████████████████████████████████████████| 110/110 [00:00<00:00, 282.05it/s]\n",
      "100%|███████████████████████████████████████████████████████████████████████████████| 247/247 [00:00<00:00, 252.81it/s]\n",
      " 13%|██████████▋                                                                     | 43/321 [00:00<00:01, 208.94it/s]"
     ]
    },
    {
     "name": "stdout",
     "output_type": "stream",
     "text": [
      "[WinError 183] 파일이 이미 있으므로 만들 수 없습니다: '../data/5.merge(stanfold,identification,crawling)_120\\\\englishcockerspaniel\\\\000019.png' -> '../data/5.merge(stanfold,identification,crawling)_120\\\\englishcockerspaniel\\\\000019.jpeg'\n",
      "[WinError 183] 파일이 이미 있으므로 만들 수 없습니다: '../data/5.merge(stanfold,identification,crawling)_120\\\\englishcockerspaniel\\\\000024.png' -> '../data/5.merge(stanfold,identification,crawling)_120\\\\englishcockerspaniel\\\\000024.jpeg'\n",
      "[WinError 183] 파일이 이미 있으므로 만들 수 없습니다: '../data/5.merge(stanfold,identification,crawling)_120\\\\englishcockerspaniel\\\\000028.png' -> '../data/5.merge(stanfold,identification,crawling)_120\\\\englishcockerspaniel\\\\000028.jpeg'\n",
      "[WinError 183] 파일이 이미 있으므로 만들 수 없습니다: '../data/5.merge(stanfold,identification,crawling)_120\\\\englishcockerspaniel\\\\000029.png' -> '../data/5.merge(stanfold,identification,crawling)_120\\\\englishcockerspaniel\\\\000029.jpeg'\n",
      "[WinError 183] 파일이 이미 있으므로 만들 수 없습니다: '../data/5.merge(stanfold,identification,crawling)_120\\\\englishcockerspaniel\\\\000054.jpg' -> '../data/5.merge(stanfold,identification,crawling)_120\\\\englishcockerspaniel\\\\000054.jpeg'"
     ]
    },
    {
     "name": "stderr",
     "output_type": "stream",
     "text": [
      " 29%|███████████████████████▍                                                        | 94/321 [00:00<00:00, 229.83it/s]"
     ]
    },
    {
     "name": "stdout",
     "output_type": "stream",
     "text": [
      "\n",
      "[WinError 183] 파일이 이미 있으므로 만들 수 없습니다: '../data/5.merge(stanfold,identification,crawling)_120\\\\englishcockerspaniel\\\\000070.jpg' -> '../data/5.merge(stanfold,identification,crawling)_120\\\\englishcockerspaniel\\\\000070.jpeg'\n",
      "[WinError 183] 파일이 이미 있으므로 만들 수 없습니다: '../data/5.merge(stanfold,identification,crawling)_120\\\\englishcockerspaniel\\\\000075.png' -> '../data/5.merge(stanfold,identification,crawling)_120\\\\englishcockerspaniel\\\\000075.jpeg'\n",
      "[WinError 183] 파일이 이미 있으므로 만들 수 없습니다: '../data/5.merge(stanfold,identification,crawling)_120\\\\englishcockerspaniel\\\\000091.png' -> '../data/5.merge(stanfold,identification,crawling)_120\\\\englishcockerspaniel\\\\000091.jpeg'\n",
      "[WinError 183] 파일이 이미 있으므로 만들 수 없습니다: '../data/5.merge(stanfold,identification,crawling)_120\\\\englishcockerspaniel\\\\000093.jpg' -> '../data/5.merge(stanfold,identification,crawling)_120\\\\englishcockerspaniel\\\\000093.jpeg'\n",
      "[WinError 183] 파일이 이미 있으므로 만들 수 없습니다: '../data/5.merge(stanfold,identification,crawling)_120\\\\englishcockerspaniel\\\\000103.jpg' -> '../data/5.merge(stanfold,identification,crawling)_120\\\\englishcockerspaniel\\\\000103.jpeg'"
     ]
    },
    {
     "name": "stderr",
     "output_type": "stream",
     "text": [
      " 46%|████████████████████████████████████▏                                          | 147/321 [00:00<00:00, 244.23it/s]"
     ]
    },
    {
     "name": "stdout",
     "output_type": "stream",
     "text": [
      "\n",
      "[WinError 183] 파일이 이미 있으므로 만들 수 없습니다: '../data/5.merge(stanfold,identification,crawling)_120\\\\englishcockerspaniel\\\\000107.png' -> '../data/5.merge(stanfold,identification,crawling)_120\\\\englishcockerspaniel\\\\000107.jpeg'\n",
      "[WinError 183] 파일이 이미 있으므로 만들 수 없습니다: '../data/5.merge(stanfold,identification,crawling)_120\\\\englishcockerspaniel\\\\000119.png' -> '../data/5.merge(stanfold,identification,crawling)_120\\\\englishcockerspaniel\\\\000119.jpeg'\n",
      "[WinError 183] 파일이 이미 있으므로 만들 수 없습니다: '../data/5.merge(stanfold,identification,crawling)_120\\\\englishcockerspaniel\\\\000132.jpg' -> '../data/5.merge(stanfold,identification,crawling)_120\\\\englishcockerspaniel\\\\000132.jpeg'\n",
      "[WinError 183] 파일이 이미 있으므로 만들 수 없습니다: '../data/5.merge(stanfold,identification,crawling)_120\\\\englishcockerspaniel\\\\000139.png' -> '../data/5.merge(stanfold,identification,crawling)_120\\\\englishcockerspaniel\\\\000139.jpeg'\n",
      "[WinError 183] 파일이 이미 있으므로 만들 수 없습니다: '../data/5.merge(stanfold,identification,crawling)_120\\\\englishcockerspaniel\\\\000147.jpg' -> '../data/5.merge(stanfold,identification,crawling)_120\\\\englishcockerspaniel\\\\000147.jpeg'"
     ]
    },
    {
     "name": "stderr",
     "output_type": "stream",
     "text": [
      " 64%|██████████████████████████████████████████████████▍                            | 205/321 [00:00<00:00, 265.43it/s]"
     ]
    },
    {
     "name": "stdout",
     "output_type": "stream",
     "text": [
      "\n",
      "[WinError 183] 파일이 이미 있으므로 만들 수 없습니다: '../data/5.merge(stanfold,identification,crawling)_120\\\\englishcockerspaniel\\\\000148.png' -> '../data/5.merge(stanfold,identification,crawling)_120\\\\englishcockerspaniel\\\\000148.jpeg'\n",
      "[WinError 183] 파일이 이미 있으므로 만들 수 없습니다: '../data/5.merge(stanfold,identification,crawling)_120\\\\englishcockerspaniel\\\\000152.png' -> '../data/5.merge(stanfold,identification,crawling)_120\\\\englishcockerspaniel\\\\000152.jpeg'\n",
      "[WinError 183] 파일이 이미 있으므로 만들 수 없습니다: '../data/5.merge(stanfold,identification,crawling)_120\\\\englishcockerspaniel\\\\000157.jpg' -> '../data/5.merge(stanfold,identification,crawling)_120\\\\englishcockerspaniel\\\\000157.jpeg'\n"
     ]
    },
    {
     "name": "stderr",
     "output_type": "stream",
     "text": [
      "100%|███████████████████████████████████████████████████████████████████████████████| 321/321 [00:01<00:00, 244.11it/s]\n",
      "100%|███████████████████████████████████████████████████████████████████████████████| 280/280 [00:00<00:00, 291.97it/s]\n",
      "100%|███████████████████████████████████████████████████████████████████████████████| 331/331 [00:01<00:00, 305.63it/s]\n",
      "100%|███████████████████████████████████████████████████████████████████████████████| 231/231 [00:00<00:00, 271.76it/s]\n",
      "100%|███████████████████████████████████████████████████████████████████████████████| 317/317 [00:01<00:00, 295.43it/s]\n",
      "100%|███████████████████████████████████████████████████████████████████████████████| 311/311 [00:01<00:00, 286.11it/s]\n",
      "100%|███████████████████████████████████████████████████████████████████████████████| 320/320 [00:01<00:00, 282.93it/s]\n",
      "100%|███████████████████████████████████████████████████████████████████████████████| 227/227 [00:00<00:00, 238.95it/s]\n",
      "100%|███████████████████████████████████████████████████████████████████████████████| 313/313 [00:01<00:00, 282.23it/s]\n",
      "100%|███████████████████████████████████████████████████████████████████████████████| 217/217 [00:00<00:00, 298.49it/s]\n",
      "100%|███████████████████████████████████████████████████████████████████████████████| 307/307 [00:01<00:00, 268.83it/s]\n",
      "100%|███████████████████████████████████████████████████████████████████████████████| 416/416 [00:01<00:00, 252.96it/s]\n",
      "100%|███████████████████████████████████████████████████████████████████████████████| 251/251 [00:00<00:00, 270.18it/s]\n",
      "100%|███████████████████████████████████████████████████████████████████████████████| 329/329 [00:01<00:00, 308.34it/s]\n",
      "100%|███████████████████████████████████████████████████████████████████████████████| 339/339 [00:01<00:00, 309.31it/s]\n",
      "100%|███████████████████████████████████████████████████████████████████████████████| 320/320 [00:01<00:00, 303.32it/s]\n",
      "100%|███████████████████████████████████████████████████████████████████████████████| 319/319 [00:01<00:00, 302.65it/s]\n",
      "100%|███████████████████████████████████████████████████████████████████████████████| 368/368 [00:01<00:00, 312.39it/s]\n",
      "100%|███████████████████████████████████████████████████████████████████████████████| 169/169 [00:00<00:00, 300.18it/s]\n",
      "100%|███████████████████████████████████████████████████████████████████████████████| 242/242 [00:00<00:00, 287.75it/s]\n",
      "100%|███████████████████████████████████████████████████████████████████████████████| 237/237 [00:00<00:00, 266.29it/s]\n",
      "100%|███████████████████████████████████████████████████████████████████████████████| 376/376 [00:01<00:00, 237.37it/s]\n",
      "100%|███████████████████████████████████████████████████████████████████████████████| 353/353 [00:01<00:00, 221.59it/s]\n",
      "100%|███████████████████████████████████████████████████████████████████████████████| 310/310 [00:01<00:00, 252.24it/s]\n",
      "100%|███████████████████████████████████████████████████████████████████████████████| 314/314 [00:01<00:00, 277.38it/s]\n",
      "100%|███████████████████████████████████████████████████████████████████████████████| 328/328 [00:01<00:00, 244.23it/s]\n",
      "100%|███████████████████████████████████████████████████████████████████████████████| 383/383 [00:01<00:00, 282.03it/s]\n",
      "100%|███████████████████████████████████████████████████████████████████████████████| 331/331 [00:01<00:00, 257.79it/s]\n",
      "100%|███████████████████████████████████████████████████████████████████████████████| 253/253 [00:01<00:00, 218.67it/s]\n",
      "100%|███████████████████████████████████████████████████████████████████████████████| 283/283 [00:01<00:00, 213.10it/s]\n",
      "100%|███████████████████████████████████████████████████████████████████████████████| 346/346 [00:01<00:00, 279.48it/s]\n",
      "100%|███████████████████████████████████████████████████████████████████████████████| 373/373 [00:01<00:00, 321.27it/s]\n",
      "100%|███████████████████████████████████████████████████████████████████████████████| 319/319 [00:01<00:00, 315.53it/s]\n",
      "100%|███████████████████████████████████████████████████████████████████████████████| 286/286 [00:00<00:00, 312.23it/s]\n",
      "100%|███████████████████████████████████████████████████████████████████████████████| 342/342 [00:01<00:00, 317.25it/s]\n",
      "100%|███████████████████████████████████████████████████████████████████████████████| 291/291 [00:00<00:00, 309.57it/s]\n",
      "100%|███████████████████████████████████████████████████████████████████████████████| 352/352 [00:01<00:00, 302.66it/s]\n",
      "100%|███████████████████████████████████████████████████████████████████████████████| 342/342 [00:01<00:00, 317.25it/s]\n",
      "100%|███████████████████████████████████████████████████████████████████████████████| 383/383 [00:01<00:00, 312.91it/s]\n",
      "100%|███████████████████████████████████████████████████████████████████████████████| 338/338 [00:01<00:00, 294.94it/s]\n",
      " 18%|██████████████▌                                                                 | 65/356 [00:00<00:00, 318.43it/s]"
     ]
    },
    {
     "name": "stdout",
     "output_type": "stream",
     "text": [
      "[WinError 183] 파일이 이미 있으므로 만들 수 없습니다: '../data/5.merge(stanfold,identification,crawling)_120\\\\pointer\\\\000009.jpg' -> '../data/5.merge(stanfold,identification,crawling)_120\\\\pointer\\\\000009.jpeg'\n",
      "[WinError 183] 파일이 이미 있으므로 만들 수 없습니다: '../data/5.merge(stanfold,identification,crawling)_120\\\\pointer\\\\000015.png' -> '../data/5.merge(stanfold,identification,crawling)_120\\\\pointer\\\\000015.jpeg'\n",
      "[WinError 183] 파일이 이미 있으므로 만들 수 없습니다: '../data/5.merge(stanfold,identification,crawling)_120\\\\pointer\\\\000024.jpg' -> '../data/5.merge(stanfold,identification,crawling)_120\\\\pointer\\\\000024.jpeg'\n",
      "[WinError 183] 파일이 이미 있으므로 만들 수 없습니다: '../data/5.merge(stanfold,identification,crawling)_120\\\\pointer\\\\000030.png' -> '../data/5.merge(stanfold,identification,crawling)_120\\\\pointer\\\\000030.jpeg'\n",
      "[WinError 183] 파일이 이미 있으므로 만들 수 없습니다: '../data/5.merge(stanfold,identification,crawling)_120\\\\pointer\\\\000031.jpg' -> '../data/5.merge(stanfold,identification,crawling)_120\\\\pointer\\\\000031.jpeg'\n",
      "[WinError 183] 파일이 이미 있으므로 만들 수 없습니다: '../data/5.merge(stanfold,identification,crawling)_120\\\\pointer\\\\000033.png' -> '../data/5.merge(stanfold,identification,crawling)_120\\\\pointer\\\\000033.jpeg'\n",
      "[WinError 183] 파일이 이미 있으므로 만들 수 없습니다: '../data/5.merge(stanfold,identification,crawling)_120\\\\pointer\\\\000036.png' -> '../data/5.merge(stanfold,identification,crawling)_120\\\\pointer\\\\000036.jpeg'\n",
      "[WinError 183] 파일이 이미 있으므로 만들 수 없습니다: '../data/5.merge(stanfold,identification,crawling)_120\\\\pointer\\\\000037.jpg' -> '../data/5.merge(stanfold,identification,crawling)_120\\\\pointer\\\\000037.jpeg'\n",
      "[WinError 183] 파일이 이미 있으므로 만들 수 없습니다: '../data/5.merge(stanfold,identification,crawling)_120\\\\pointer\\\\000040.png' -> '../data/5.merge(stanfold,identification,crawling)_120\\\\pointer\\\\000040.jpeg'\n",
      "[WinError 183] 파일이 이미 있으므로 만들 수 없습니다: '../data/5.merge(stanfold,identification,crawling)_120\\\\pointer\\\\000043.jpg' -> '../data/5.merge(stanfold,identification,crawling)_120\\\\pointer\\\\000043.jpeg'\n",
      "[WinError 183] 파일이 이미 있으므로 만들 수 없습니다: '../data/5.merge(stanfold,identification,crawling)_120\\\\pointer\\\\000047.jpg' -> '../data/5.merge(stanfold,identification,crawling)_120\\\\pointer\\\\000047.jpeg'\n",
      "[WinError 183] 파일이 이미 있으므로 만들 수 없습니다: '../data/5.merge(stanfold,identification,crawling)_120\\\\pointer\\\\000052.png' -> '../data/5.merge(stanfold,identification,crawling)_120\\\\pointer\\\\000052.jpeg'\n",
      "[WinError 183] 파일이 이미 있으므로 만들 수 없습니다: '../data/5.merge(stanfold,identification,crawling)_120\\\\pointer\\\\000055.png' -> '../data/5.merge(stanfold,identification,crawling)_120\\\\pointer\\\\000055.jpeg'\n",
      "[WinError 183] 파일이 이미 있으므로 만들 수 없습니다: '../data/5.merge(stanfold,identification,crawling)_120\\\\pointer\\\\000056.png' -> '../data/5.merge(stanfold,identification,crawling)_120\\\\pointer\\\\000056.jpeg'\n",
      "[WinError 183] 파일이 이미 있으므로 만들 수 없습니다: '../data/5.merge(stanfold,identification,crawling)_120\\\\pointer\\\\000057.png' -> '../data/5.merge(stanfold,identification,crawling)_120\\\\pointer\\\\000057.jpeg'"
     ]
    },
    {
     "name": "stderr",
     "output_type": "stream",
     "text": [
      " 36%|████████████████████████████▋                                                  | 129/356 [00:00<00:00, 316.96it/s]"
     ]
    },
    {
     "name": "stdout",
     "output_type": "stream",
     "text": [
      "\n",
      "[WinError 183] 파일이 이미 있으므로 만들 수 없습니다: '../data/5.merge(stanfold,identification,crawling)_120\\\\pointer\\\\000063.png' -> '../data/5.merge(stanfold,identification,crawling)_120\\\\pointer\\\\000063.jpeg'\n",
      "[WinError 183] 파일이 이미 있으므로 만들 수 없습니다: '../data/5.merge(stanfold,identification,crawling)_120\\\\pointer\\\\000069.png' -> '../data/5.merge(stanfold,identification,crawling)_120\\\\pointer\\\\000069.jpeg'\n",
      "[WinError 183] 파일이 이미 있으므로 만들 수 없습니다: '../data/5.merge(stanfold,identification,crawling)_120\\\\pointer\\\\000071.png' -> '../data/5.merge(stanfold,identification,crawling)_120\\\\pointer\\\\000071.jpeg'\n",
      "[WinError 183] 파일이 이미 있으므로 만들 수 없습니다: '../data/5.merge(stanfold,identification,crawling)_120\\\\pointer\\\\000074.png' -> '../data/5.merge(stanfold,identification,crawling)_120\\\\pointer\\\\000074.jpeg'\n",
      "[WinError 183] 파일이 이미 있으므로 만들 수 없습니다: '../data/5.merge(stanfold,identification,crawling)_120\\\\pointer\\\\000075.jpg' -> '../data/5.merge(stanfold,identification,crawling)_120\\\\pointer\\\\000075.jpeg'\n",
      "[WinError 183] 파일이 이미 있으므로 만들 수 없습니다: '../data/5.merge(stanfold,identification,crawling)_120\\\\pointer\\\\000084.jpg' -> '../data/5.merge(stanfold,identification,crawling)_120\\\\pointer\\\\000084.jpeg'\n",
      "[WinError 183] 파일이 이미 있으므로 만들 수 없습니다: '../data/5.merge(stanfold,identification,crawling)_120\\\\pointer\\\\000099.png' -> '../data/5.merge(stanfold,identification,crawling)_120\\\\pointer\\\\000099.jpeg'\n",
      "[WinError 183] 파일이 이미 있으므로 만들 수 없습니다: '../data/5.merge(stanfold,identification,crawling)_120\\\\pointer\\\\000102.png' -> '../data/5.merge(stanfold,identification,crawling)_120\\\\pointer\\\\000102.jpeg'\n",
      "[WinError 183] 파일이 이미 있으므로 만들 수 없습니다: '../data/5.merge(stanfold,identification,crawling)_120\\\\pointer\\\\000103.jpg' -> '../data/5.merge(stanfold,identification,crawling)_120\\\\pointer\\\\000103.jpeg'\n"
     ]
    },
    {
     "name": "stderr",
     "output_type": "stream",
     "text": [
      " 54%|██████████████████████████████████████████▌                                    | 192/356 [00:00<00:00, 313.75it/s]"
     ]
    },
    {
     "name": "stdout",
     "output_type": "stream",
     "text": [
      "[WinError 183] 파일이 이미 있으므로 만들 수 없습니다: '../data/5.merge(stanfold,identification,crawling)_120\\\\pointer\\\\000119.png' -> '../data/5.merge(stanfold,identification,crawling)_120\\\\pointer\\\\000119.jpeg'\n",
      "[WinError 183] 파일이 이미 있으므로 만들 수 없습니다: '../data/5.merge(stanfold,identification,crawling)_120\\\\pointer\\\\000135.png' -> '../data/5.merge(stanfold,identification,crawling)_120\\\\pointer\\\\000135.jpeg'\n",
      "[WinError 183] 파일이 이미 있으므로 만들 수 없습니다: '../data/5.merge(stanfold,identification,crawling)_120\\\\pointer\\\\000140.png' -> '../data/5.merge(stanfold,identification,crawling)_120\\\\pointer\\\\000140.jpeg'\n",
      "[WinError 183] 파일이 이미 있으므로 만들 수 없습니다: '../data/5.merge(stanfold,identification,crawling)_120\\\\pointer\\\\000141.png' -> '../data/5.merge(stanfold,identification,crawling)_120\\\\pointer\\\\000141.jpeg'\n",
      "[WinError 183] 파일이 이미 있으므로 만들 수 없습니다: '../data/5.merge(stanfold,identification,crawling)_120\\\\pointer\\\\000150.png' -> '../data/5.merge(stanfold,identification,crawling)_120\\\\pointer\\\\000150.jpeg'\n",
      "[WinError 183] 파일이 이미 있으므로 만들 수 없습니다: '../data/5.merge(stanfold,identification,crawling)_120\\\\pointer\\\\000155.png' -> '../data/5.merge(stanfold,identification,crawling)_120\\\\pointer\\\\000155.jpeg'\n",
      "[WinError 183] 파일이 이미 있으므로 만들 수 없습니다: '../data/5.merge(stanfold,identification,crawling)_120\\\\pointer\\\\000157.png' -> '../data/5.merge(stanfold,identification,crawling)_120\\\\pointer\\\\000157.jpeg'\n",
      "[WinError 183] 파일이 이미 있으므로 만들 수 없습니다: '../data/5.merge(stanfold,identification,crawling)_120\\\\pointer\\\\000161.png' -> '../data/5.merge(stanfold,identification,crawling)_120\\\\pointer\\\\000161.jpeg'\n",
      "[WinError 183] 파일이 이미 있으므로 만들 수 없습니다: '../data/5.merge(stanfold,identification,crawling)_120\\\\pointer\\\\000170.png' -> '../data/5.merge(stanfold,identification,crawling)_120\\\\pointer\\\\000170.jpeg'"
     ]
    },
    {
     "name": "stderr",
     "output_type": "stream",
     "text": [
      " 71%|████████████████████████████████████████████████████████▎                      | 254/356 [00:00<00:00, 311.17it/s]"
     ]
    },
    {
     "name": "stdout",
     "output_type": "stream",
     "text": [
      "\n",
      "[WinError 183] 파일이 이미 있으므로 만들 수 없습니다: '../data/5.merge(stanfold,identification,crawling)_120\\\\pointer\\\\000182.png' -> '../data/5.merge(stanfold,identification,crawling)_120\\\\pointer\\\\000182.jpeg'\n",
      "[WinError 183] 파일이 이미 있으므로 만들 수 없습니다: '../data/5.merge(stanfold,identification,crawling)_120\\\\pointer\\\\000203.jpg' -> '../data/5.merge(stanfold,identification,crawling)_120\\\\pointer\\\\000203.jpeg'\n",
      "[WinError 183] 파일이 이미 있으므로 만들 수 없습니다: '../data/5.merge(stanfold,identification,crawling)_120\\\\pointer\\\\000204.png' -> '../data/5.merge(stanfold,identification,crawling)_120\\\\pointer\\\\000204.jpeg'\n",
      "[WinError 183] 파일이 이미 있으므로 만들 수 없습니다: '../data/5.merge(stanfold,identification,crawling)_120\\\\pointer\\\\000215.png' -> '../data/5.merge(stanfold,identification,crawling)_120\\\\pointer\\\\000215.jpeg'\n"
     ]
    },
    {
     "name": "stderr",
     "output_type": "stream",
     "text": [
      " 89%|██████████████████████████████████████████████████████████████████████▌        | 318/356 [00:01<00:00, 310.91it/s]"
     ]
    },
    {
     "name": "stdout",
     "output_type": "stream",
     "text": [
      "[WinError 183] 파일이 이미 있으므로 만들 수 없습니다: '../data/5.merge(stanfold,identification,crawling)_120\\\\pointer\\\\000237.png' -> '../data/5.merge(stanfold,identification,crawling)_120\\\\pointer\\\\000237.jpeg'\n",
      "[WinError 183] 파일이 이미 있으므로 만들 수 없습니다: '../data/5.merge(stanfold,identification,crawling)_120\\\\pointer\\\\000240.jpg' -> '../data/5.merge(stanfold,identification,crawling)_120\\\\pointer\\\\000240.jpeg'\n",
      "[WinError 183] 파일이 이미 있으므로 만들 수 없습니다: '../data/5.merge(stanfold,identification,crawling)_120\\\\pointer\\\\000253.PNG' -> '../data/5.merge(stanfold,identification,crawling)_120\\\\pointer\\\\000253.jpeg'\n",
      "[WinError 183] 파일이 이미 있으므로 만들 수 없습니다: '../data/5.merge(stanfold,identification,crawling)_120\\\\pointer\\\\000261.png' -> '../data/5.merge(stanfold,identification,crawling)_120\\\\pointer\\\\000261.jpeg'\n",
      "[WinError 183] 파일이 이미 있으므로 만들 수 없습니다: '../data/5.merge(stanfold,identification,crawling)_120\\\\pointer\\\\000262.png' -> '../data/5.merge(stanfold,identification,crawling)_120\\\\pointer\\\\000262.jpeg'\n",
      "[WinError 183] 파일이 이미 있으므로 만들 수 없습니다: '../data/5.merge(stanfold,identification,crawling)_120\\\\pointer\\\\000268.png' -> '../data/5.merge(stanfold,identification,crawling)_120\\\\pointer\\\\000268.jpeg'\n"
     ]
    },
    {
     "name": "stderr",
     "output_type": "stream",
     "text": [
      "100%|███████████████████████████████████████████████████████████████████████████████| 356/356 [00:01<00:00, 308.22it/s]\n",
      "100%|███████████████████████████████████████████████████████████████████████████████| 330/330 [00:01<00:00, 301.64it/s]\n",
      "100%|███████████████████████████████████████████████████████████████████████████████| 324/324 [00:01<00:00, 311.84it/s]\n",
      "100%|███████████████████████████████████████████████████████████████████████████████| 276/276 [00:00<00:00, 308.03it/s]\n",
      "100%|███████████████████████████████████████████████████████████████████████████████| 388/388 [00:01<00:00, 300.54it/s]\n",
      " 27%|█████████████████████▋                                                          | 63/233 [00:00<00:00, 308.93it/s]"
     ]
    },
    {
     "name": "stdout",
     "output_type": "stream",
     "text": [
      "[WinError 183] 파일이 이미 있으므로 만들 수 없습니다: '../data/5.merge(stanfold,identification,crawling)_120\\\\puli\\\\000018.jpg' -> '../data/5.merge(stanfold,identification,crawling)_120\\\\puli\\\\000018.jpeg'\n",
      "[WinError 183] 파일이 이미 있으므로 만들 수 없습니다: '../data/5.merge(stanfold,identification,crawling)_120\\\\puli\\\\000019.jpg' -> '../data/5.merge(stanfold,identification,crawling)_120\\\\puli\\\\000019.jpeg'\n",
      "[WinError 183] 파일이 이미 있으므로 만들 수 없습니다: '../data/5.merge(stanfold,identification,crawling)_120\\\\puli\\\\000035.png' -> '../data/5.merge(stanfold,identification,crawling)_120\\\\puli\\\\000035.jpeg'\n",
      "[WinError 183] 파일이 이미 있으므로 만들 수 없습니다: '../data/5.merge(stanfold,identification,crawling)_120\\\\puli\\\\000050.png' -> '../data/5.merge(stanfold,identification,crawling)_120\\\\puli\\\\000050.jpeg'\n",
      "[WinError 183] 파일이 이미 있으므로 만들 수 없습니다: '../data/5.merge(stanfold,identification,crawling)_120\\\\puli\\\\000051.png' -> '../data/5.merge(stanfold,identification,crawling)_120\\\\puli\\\\000051.jpeg'\n",
      "[WinError 183] 파일이 이미 있으므로 만들 수 없습니다: '../data/5.merge(stanfold,identification,crawling)_120\\\\puli\\\\000054.png' -> '../data/5.merge(stanfold,identification,crawling)_120\\\\puli\\\\000054.jpeg'\n",
      "[WinError 183] 파일이 이미 있으므로 만들 수 없습니다: '../data/5.merge(stanfold,identification,crawling)_120\\\\puli\\\\000069.jpg' -> '../data/5.merge(stanfold,identification,crawling)_120\\\\puli\\\\000069.jpeg'"
     ]
    },
    {
     "name": "stderr",
     "output_type": "stream",
     "text": [
      " 54%|██████████████████████████████████████████▋                                    | 126/233 [00:00<00:00, 311.74it/s]"
     ]
    },
    {
     "name": "stdout",
     "output_type": "stream",
     "text": [
      "\n",
      "[WinError 183] 파일이 이미 있으므로 만들 수 없습니다: '../data/5.merge(stanfold,identification,crawling)_120\\\\puli\\\\000077.png' -> '../data/5.merge(stanfold,identification,crawling)_120\\\\puli\\\\000077.jpeg'\n",
      "[WinError 183] 파일이 이미 있으므로 만들 수 없습니다: '../data/5.merge(stanfold,identification,crawling)_120\\\\puli\\\\000091.jpg' -> '../data/5.merge(stanfold,identification,crawling)_120\\\\puli\\\\000091.jpeg'\n",
      "[WinError 183] 파일이 이미 있으므로 만들 수 없습니다: '../data/5.merge(stanfold,identification,crawling)_120\\\\puli\\\\000092.png' -> '../data/5.merge(stanfold,identification,crawling)_120\\\\puli\\\\000092.jpeg'\n"
     ]
    },
    {
     "name": "stderr",
     "output_type": "stream",
     "text": [
      "100%|███████████████████████████████████████████████████████████████████████████████| 233/233 [00:00<00:00, 307.79it/s]\n",
      "100%|███████████████████████████████████████████████████████████████████████████████| 260/260 [00:00<00:00, 307.33it/s]\n",
      "100%|███████████████████████████████████████████████████████████████████████████████| 323/323 [00:00<00:00, 323.00it/s]\n",
      "100%|███████████████████████████████████████████████████████████████████████████████| 335/335 [00:01<00:00, 298.30it/s]\n",
      "100%|███████████████████████████████████████████████████████████████████████████████| 299/299 [00:00<00:00, 305.41it/s]\n",
      "100%|███████████████████████████████████████████████████████████████████████████████| 417/417 [00:01<00:00, 303.49it/s]\n",
      "100%|███████████████████████████████████████████████████████████████████████████████| 182/182 [00:00<00:00, 294.97it/s]\n",
      "100%|███████████████████████████████████████████████████████████████████████████████| 223/223 [00:00<00:00, 305.89it/s]\n",
      "100%|███████████████████████████████████████████████████████████████████████████████| 379/379 [00:01<00:00, 316.36it/s]\n",
      "100%|███████████████████████████████████████████████████████████████████████████████| 324/324 [00:01<00:00, 309.16it/s]\n",
      "100%|███████████████████████████████████████████████████████████████████████████████| 282/282 [00:00<00:00, 287.46it/s]\n",
      "100%|███████████████████████████████████████████████████████████████████████████████| 419/419 [00:01<00:00, 307.86it/s]\n",
      "100%|███████████████████████████████████████████████████████████████████████████████| 382/382 [00:01<00:00, 312.34it/s]\n",
      "100%|███████████████████████████████████████████████████████████████████████████████| 361/361 [00:01<00:00, 313.64it/s]\n",
      "100%|███████████████████████████████████████████████████████████████████████████████| 189/189 [00:00<00:00, 316.05it/s]\n",
      "100%|███████████████████████████████████████████████████████████████████████████████| 315/315 [00:01<00:00, 307.32it/s]\n",
      "100%|███████████████████████████████████████████████████████████████████████████████| 291/291 [00:00<00:00, 307.61it/s]\n",
      "100%|███████████████████████████████████████████████████████████████████████████████| 311/311 [00:01<00:00, 304.01it/s]\n",
      "100%|███████████████████████████████████████████████████████████████████████████████| 319/319 [00:01<00:00, 310.61it/s]\n",
      "100%|███████████████████████████████████████████████████████████████████████████████| 223/223 [00:00<00:00, 295.36it/s]\n",
      "100%|███████████████████████████████████████████████████████████████████████████████| 311/311 [00:00<00:00, 315.41it/s]\n",
      "100%|███████████████████████████████████████████████████████████████████████████████| 404/404 [00:01<00:00, 315.38it/s]\n",
      "100%|███████████████████████████████████████████████████████████████████████████████| 283/283 [00:00<00:00, 302.02it/s]\n",
      "100%|███████████████████████████████████████████████████████████████████████████████| 224/224 [00:00<00:00, 307.69it/s]\n",
      "100%|███████████████████████████████████████████████████████████████████████████████| 332/332 [00:01<00:00, 297.76it/s]\n",
      "100%|███████████████████████████████████████████████████████████████████████████████| 229/229 [00:00<00:00, 296.25it/s]\n",
      "100%|███████████████████████████████████████████████████████████████████████████████| 243/243 [00:00<00:00, 306.82it/s]\n",
      "100%|███████████████████████████████████████████████████████████████████████████████| 340/340 [00:01<00:00, 300.09it/s]\n",
      "100%|███████████████████████████████████████████████████████████████████████████████| 372/372 [00:01<00:00, 289.04it/s]\n",
      "100%|███████████████████████████████████████████████████████████████████████████████| 199/199 [00:00<00:00, 241.50it/s]\n",
      "100%|███████████████████████████████████████████████████████████████████████████████| 315/315 [00:01<00:00, 283.53it/s]\n"
     ]
    }
   ],
   "source": [
    "from PIL import Image\n",
    "from tqdm import tqdm\n",
    "\n",
    "img_ext_list = [\".jpg\", \".JPG\", \".gif\", \".GIF\", \".png\", \".PNG\", \".jpeg\", \".JPEG\"]\n",
    "\n",
    "def verify_image(img_file):\n",
    "  # test image\n",
    "  try:\n",
    "    v_image = Image.open(img_file)\n",
    "    v_image.verify()\n",
    "    v_image.close()\n",
    "    # if image is valid\n",
    "    return True\n",
    "  except OSError:\n",
    "    return False\n",
    "\n",
    "for root, dirs, files in os.walk(img_dir):\n",
    "    cnt = 1\n",
    "    for file in tqdm(files):\n",
    "        currentFile=os.path.join(root, file)\n",
    "    \n",
    "        file, ext = os.path.splitext(currentFile)\n",
    "        \n",
    "        # jpeg format \n",
    "        if ext in img_ext_list :\n",
    "            ext = \".jpeg\"\n",
    "            new_file_name = str(file)+ext\n",
    "            try:\n",
    "                os.rename(currentFile, new_file_name )\n",
    "            except Exception as err:\n",
    "                print(err)"
   ]
  },
  {
   "cell_type": "markdown",
   "metadata": {
    "colab_type": "text",
    "id": "1B7Iz_SRK0yC"
   },
   "source": [
    "### 디렉토리 목록 list로 적용"
   ]
  },
  {
   "cell_type": "code",
   "execution_count": 5,
   "metadata": {
    "colab": {
     "base_uri": "https://localhost:8080/",
     "height": 102
    },
    "colab_type": "code",
    "id": "5BCCQvUqK85F",
    "outputId": "dda99b7c-33a0-48d0-84e2-e0199de448fe"
   },
   "outputs": [
    {
     "name": "stdout",
     "output_type": "stream",
     "text": [
      "../data/5.merge(stanfold,identification,crawling)_120/affenpinscher\n",
      "../data/5.merge(stanfold,identification,crawling)_120/afghan_hound\n",
      "../data/5.merge(stanfold,identification,crawling)_120/airedaleterrier\n",
      "../data/5.merge(stanfold,identification,crawling)_120/akita\n",
      "../data/5.merge(stanfold,identification,crawling)_120/alaskanmalamute\n",
      "../data/5.merge(stanfold,identification,crawling)_120/americancockerspaniel\n",
      "../data/5.merge(stanfold,identification,crawling)_120/americaneskimodog\n",
      "../data/5.merge(stanfold,identification,crawling)_120/australian_terrier\n",
      "../data/5.merge(stanfold,identification,crawling)_120/basenji\n",
      "../data/5.merge(stanfold,identification,crawling)_120/bassethound\n",
      "../data/5.merge(stanfold,identification,crawling)_120/beagle\n",
      "../data/5.merge(stanfold,identification,crawling)_120/beardedcollie\n",
      "../data/5.merge(stanfold,identification,crawling)_120/bedlington_terrier\n",
      "../data/5.merge(stanfold,identification,crawling)_120/belgiansheepdoggroenendael\n",
      "../data/5.merge(stanfold,identification,crawling)_120/belgiansheepdoglaekenois\n",
      "../data/5.merge(stanfold,identification,crawling)_120/belgiansheepdogmalinois\n",
      "../data/5.merge(stanfold,identification,crawling)_120/belgiansheepdogtervuren\n",
      "../data/5.merge(stanfold,identification,crawling)_120/bernese_mountain_dog\n",
      "../data/5.merge(stanfold,identification,crawling)_120/bichonfrise\n",
      "../data/5.merge(stanfold,identification,crawling)_120/black-and-tan_coonhound\n",
      "../data/5.merge(stanfold,identification,crawling)_120/bloodhound\n",
      "../data/5.merge(stanfold,identification,crawling)_120/border_collie\n",
      "../data/5.merge(stanfold,identification,crawling)_120/border_terrier\n",
      "../data/5.merge(stanfold,identification,crawling)_120/borzoi\n",
      "../data/5.merge(stanfold,identification,crawling)_120/bostonterrier\n",
      "../data/5.merge(stanfold,identification,crawling)_120/boxer\n",
      "../data/5.merge(stanfold,identification,crawling)_120/brittanydog\n",
      "../data/5.merge(stanfold,identification,crawling)_120/brusselsgriffonr\n",
      "../data/5.merge(stanfold,identification,crawling)_120/bulldog\n",
      "../data/5.merge(stanfold,identification,crawling)_120/bullterrier\n",
      "../data/5.merge(stanfold,identification,crawling)_120/bull_mastiff\n",
      "../data/5.merge(stanfold,identification,crawling)_120/cairnterrier\n",
      "../data/5.merge(stanfold,identification,crawling)_120/caucasianavtcharka\n",
      "../data/5.merge(stanfold,identification,crawling)_120/chesapeake_bay_retriever\n",
      "../data/5.merge(stanfold,identification,crawling)_120/chihuahua\n",
      "../data/5.merge(stanfold,identification,crawling)_120/chinesecrested\n",
      "../data/5.merge(stanfold,identification,crawling)_120/chinesesharpei\n",
      "../data/5.merge(stanfold,identification,crawling)_120/chowchow\n",
      "../data/5.merge(stanfold,identification,crawling)_120/clumberspaniel\n",
      "../data/5.merge(stanfold,identification,crawling)_120/collie\n",
      "../data/5.merge(stanfold,identification,crawling)_120/curly-coated_retriever\n",
      "../data/5.merge(stanfold,identification,crawling)_120/dachshunds\n",
      "../data/5.merge(stanfold,identification,crawling)_120/dalmatian\n",
      "../data/5.merge(stanfold,identification,crawling)_120/dandiedinmontterrier\n",
      "../data/5.merge(stanfold,identification,crawling)_120/dobermanpinscher\n",
      "../data/5.merge(stanfold,identification,crawling)_120/englishcockerspaniel\n",
      "../data/5.merge(stanfold,identification,crawling)_120/englishspringerspaniel\n",
      "../data/5.merge(stanfold,identification,crawling)_120/english_setter\n",
      "../data/5.merge(stanfold,identification,crawling)_120/fieldspaniel\n",
      "../data/5.merge(stanfold,identification,crawling)_120/flat-coated_retriever\n",
      "../data/5.merge(stanfold,identification,crawling)_120/french_bulldog\n",
      "../data/5.merge(stanfold,identification,crawling)_120/germanshepherddog\n",
      "../data/5.merge(stanfold,identification,crawling)_120/german_short-haired_pointer\n",
      "../data/5.merge(stanfold,identification,crawling)_120/giant_schnauzer\n",
      "../data/5.merge(stanfold,identification,crawling)_120/golden_retriever\n",
      "../data/5.merge(stanfold,identification,crawling)_120/great_dane\n",
      "../data/5.merge(stanfold,identification,crawling)_120/great_pyrenees\n",
      "../data/5.merge(stanfold,identification,crawling)_120/greyhound\n",
      "../data/5.merge(stanfold,identification,crawling)_120/irish_setter\n",
      "../data/5.merge(stanfold,identification,crawling)_120/irish_terrier\n",
      "../data/5.merge(stanfold,identification,crawling)_120/irish_water_spaniel\n",
      "../data/5.merge(stanfold,identification,crawling)_120/irish_wolfhound\n",
      "../data/5.merge(stanfold,identification,crawling)_120/italian_greyhound\n",
      "../data/5.merge(stanfold,identification,crawling)_120/jackrusselterrier\n",
      "../data/5.merge(stanfold,identification,crawling)_120/japanesechin\n",
      "../data/5.merge(stanfold,identification,crawling)_120/japanesespitz\n",
      "../data/5.merge(stanfold,identification,crawling)_120/jindodog\n",
      "../data/5.merge(stanfold,identification,crawling)_120/kerry_blue_terrier\n",
      "../data/5.merge(stanfold,identification,crawling)_120/komondor\n",
      "../data/5.merge(stanfold,identification,crawling)_120/kuvasz\n",
      "../data/5.merge(stanfold,identification,crawling)_120/labrador_retriever\n",
      "../data/5.merge(stanfold,identification,crawling)_120/lakeland_terrier\n",
      "../data/5.merge(stanfold,identification,crawling)_120/lhasaapso\n",
      "../data/5.merge(stanfold,identification,crawling)_120/maltese\n",
      "../data/5.merge(stanfold,identification,crawling)_120/manchesterterriers\n",
      "../data/5.merge(stanfold,identification,crawling)_120/mastiff\n",
      "../data/5.merge(stanfold,identification,crawling)_120/miniature_pinscher\n",
      "../data/5.merge(stanfold,identification,crawling)_120/miniature_schnauzer\n",
      "../data/5.merge(stanfold,identification,crawling)_120/newfoundland\n",
      "../data/5.merge(stanfold,identification,crawling)_120/norfolk_terrier\n",
      "../data/5.merge(stanfold,identification,crawling)_120/norwegian_elkhound\n",
      "../data/5.merge(stanfold,identification,crawling)_120/norwich_terrier\n",
      "../data/5.merge(stanfold,identification,crawling)_120/old_english_sheepdog\n",
      "../data/5.merge(stanfold,identification,crawling)_120/papillon\n",
      "../data/5.merge(stanfold,identification,crawling)_120/pekingese\n",
      "../data/5.merge(stanfold,identification,crawling)_120/pointer\n",
      "../data/5.merge(stanfold,identification,crawling)_120/pomeranian\n",
      "../data/5.merge(stanfold,identification,crawling)_120/poodle\n",
      "../data/5.merge(stanfold,identification,crawling)_120/poongsandog\n",
      "../data/5.merge(stanfold,identification,crawling)_120/pug\n",
      "../data/5.merge(stanfold,identification,crawling)_120/puli\n",
      "../data/5.merge(stanfold,identification,crawling)_120/rhodesian_ridgeback\n",
      "../data/5.merge(stanfold,identification,crawling)_120/rottweiler\n",
      "../data/5.merge(stanfold,identification,crawling)_120/saint_bernard\n",
      "../data/5.merge(stanfold,identification,crawling)_120/saluki\n",
      "../data/5.merge(stanfold,identification,crawling)_120/samoyed\n",
      "../data/5.merge(stanfold,identification,crawling)_120/sapsaree\n",
      "../data/5.merge(stanfold,identification,crawling)_120/scottishterrier\n",
      "../data/5.merge(stanfold,identification,crawling)_120/sealyham_terrier\n",
      "../data/5.merge(stanfold,identification,crawling)_120/shetland_sheepdog\n",
      "../data/5.merge(stanfold,identification,crawling)_120/shiba\n",
      "../data/5.merge(stanfold,identification,crawling)_120/shih-tzu\n",
      "../data/5.merge(stanfold,identification,crawling)_120/siberian_husky\n",
      "../data/5.merge(stanfold,identification,crawling)_120/silky_terrier\n",
      "../data/5.merge(stanfold,identification,crawling)_120/skyeterrier\n",
      "../data/5.merge(stanfold,identification,crawling)_120/soft-coated_wheaten_terrier\n",
      "../data/5.merge(stanfold,identification,crawling)_120/southrussianovtcharka\n",
      "../data/5.merge(stanfold,identification,crawling)_120/staffordshire_bullterrier\n",
      "../data/5.merge(stanfold,identification,crawling)_120/sussex_spaniel\n",
      "../data/5.merge(stanfold,identification,crawling)_120/tibetanspaniel\n",
      "../data/5.merge(stanfold,identification,crawling)_120/tibetan_mastiff\n",
      "../data/5.merge(stanfold,identification,crawling)_120/tibetan_terrier\n",
      "../data/5.merge(stanfold,identification,crawling)_120/toymanchesterterrier\n",
      "../data/5.merge(stanfold,identification,crawling)_120/vizsla\n",
      "../data/5.merge(stanfold,identification,crawling)_120/weimaraner\n",
      "../data/5.merge(stanfold,identification,crawling)_120/welshcorgi\n",
      "../data/5.merge(stanfold,identification,crawling)_120/welshterrier\n",
      "../data/5.merge(stanfold,identification,crawling)_120/west_highland_white_terrier\n",
      "../data/5.merge(stanfold,identification,crawling)_120/whippet\n",
      "../data/5.merge(stanfold,identification,crawling)_120/wirehairedpointinggriffon\n",
      "../data/5.merge(stanfold,identification,crawling)_120/yorkshire_terrier\n"
     ]
    }
   ],
   "source": [
    "dir_list = os.listdir(img_dir)\n",
    "\n",
    "final_dir_list = []\n",
    "\n",
    "for dirname in dir_list:\n",
    "    final_dir_list.append(img_dir+'/' + dirname)\n",
    "  # print(img_dir + dirname)\n",
    "\n",
    "for dirname in final_dir_list:\n",
    "    print(dirname)"
   ]
  },
  {
   "cell_type": "markdown",
   "metadata": {
    "colab_type": "text",
    "id": "NfRQeQyI5wdc"
   },
   "source": [
    "### 유효 이미지 검사하여 유효 이미지만 저장"
   ]
  },
  {
   "cell_type": "code",
   "execution_count": 17,
   "metadata": {
    "colab": {
     "base_uri": "https://localhost:8080/",
     "height": 1000
    },
    "colab_type": "code",
    "id": "XC39nqa9cQxX",
    "outputId": "cea74010-b31e-4a15-8d7f-6f91eac243ce"
   },
   "outputs": [
    {
     "name": "stdout",
     "output_type": "stream",
     "text": [
      "../data/5.merge(stanfold,identification,crawling)_120/affenpinscher\n",
      "../data/5.merge(stanfold,identification,crawling)_120/afghan_hound\n",
      "../data/5.merge(stanfold,identification,crawling)_120/airedaleterrier\n",
      "../data/5.merge(stanfold,identification,crawling)_120/akita\n",
      "../data/5.merge(stanfold,identification,crawling)_120/alaskanmalamute\n",
      "../data/5.merge(stanfold,identification,crawling)_120/americancockerspaniel\n",
      "../data/5.merge(stanfold,identification,crawling)_120/americaneskimodog\n",
      "../data/5.merge(stanfold,identification,crawling)_120/australian_terrier\n",
      "../data/5.merge(stanfold,identification,crawling)_120/basenji\n",
      "../data/5.merge(stanfold,identification,crawling)_120/bassethound\n",
      "../data/5.merge(stanfold,identification,crawling)_120/beagle\n",
      "../data/5.merge(stanfold,identification,crawling)_120/beardedcollie\n",
      "../data/5.merge(stanfold,identification,crawling)_120/bedlington_terrier\n",
      "../data/5.merge(stanfold,identification,crawling)_120/belgiansheepdoggroenendael\n",
      "../data/5.merge(stanfold,identification,crawling)_120/belgiansheepdoglaekenois\n",
      "../data/5.merge(stanfold,identification,crawling)_120/belgiansheepdogmalinois\n",
      "../data/5.merge(stanfold,identification,crawling)_120/belgiansheepdogtervuren\n",
      "../data/5.merge(stanfold,identification,crawling)_120/bernese_mountain_dog\n",
      "../data/5.merge(stanfold,identification,crawling)_120/bichonfrise\n",
      "../data/5.merge(stanfold,identification,crawling)_120/black-and-tan_coonhound\n",
      "../data/5.merge(stanfold,identification,crawling)_120/bloodhound\n",
      "../data/5.merge(stanfold,identification,crawling)_120/border_collie\n",
      "../data/5.merge(stanfold,identification,crawling)_120/border_terrier\n",
      "../data/5.merge(stanfold,identification,crawling)_120/borzoi\n",
      "../data/5.merge(stanfold,identification,crawling)_120/bostonterrier\n",
      "../data/5.merge(stanfold,identification,crawling)_120/boxer\n",
      "../data/5.merge(stanfold,identification,crawling)_120/brittanydog\n",
      "../data/5.merge(stanfold,identification,crawling)_120/brusselsgriffonr\n",
      "../data/5.merge(stanfold,identification,crawling)_120/bulldog\n",
      "../data/5.merge(stanfold,identification,crawling)_120/bullterrier\n",
      "../data/5.merge(stanfold,identification,crawling)_120/bull_mastiff\n",
      "../data/5.merge(stanfold,identification,crawling)_120/cairnterrier\n",
      "../data/5.merge(stanfold,identification,crawling)_120/caucasianavtcharka\n",
      "../data/5.merge(stanfold,identification,crawling)_120/chesapeake_bay_retriever\n",
      "../data/5.merge(stanfold,identification,crawling)_120/chihuahua\n",
      "../data/5.merge(stanfold,identification,crawling)_120/chinesecrested\n",
      "../data/5.merge(stanfold,identification,crawling)_120/chinesesharpei\n",
      "../data/5.merge(stanfold,identification,crawling)_120/chowchow\n",
      "../data/5.merge(stanfold,identification,crawling)_120/clumberspaniel\n",
      "../data/5.merge(stanfold,identification,crawling)_120/collie\n",
      "../data/5.merge(stanfold,identification,crawling)_120/curly-coated_retriever\n",
      "../data/5.merge(stanfold,identification,crawling)_120/dachshunds\n",
      "../data/5.merge(stanfold,identification,crawling)_120/dalmatian\n",
      "../data/5.merge(stanfold,identification,crawling)_120/dandiedinmontterrier\n",
      "../data/5.merge(stanfold,identification,crawling)_120/dobermanpinscher\n",
      "../data/5.merge(stanfold,identification,crawling)_120/englishcockerspaniel\n",
      "../data/5.merge(stanfold,identification,crawling)_120/englishspringerspaniel\n",
      "../data/5.merge(stanfold,identification,crawling)_120/english_setter\n",
      "../data/5.merge(stanfold,identification,crawling)_120/fieldspaniel\n",
      "../data/5.merge(stanfold,identification,crawling)_120/flat-coated_retriever\n",
      "../data/5.merge(stanfold,identification,crawling)_120/french_bulldog\n",
      "../data/5.merge(stanfold,identification,crawling)_120/germanshepherddog\n",
      "../data/5.merge(stanfold,identification,crawling)_120/german_short-haired_pointer\n",
      "../data/5.merge(stanfold,identification,crawling)_120/giant_schnauzer\n",
      "../data/5.merge(stanfold,identification,crawling)_120/golden_retriever\n",
      "../data/5.merge(stanfold,identification,crawling)_120/great_dane\n",
      "../data/5.merge(stanfold,identification,crawling)_120/great_pyrenees\n",
      "../data/5.merge(stanfold,identification,crawling)_120/greyhound\n",
      "../data/5.merge(stanfold,identification,crawling)_120/irish_setter\n",
      "../data/5.merge(stanfold,identification,crawling)_120/irish_terrier\n",
      "../data/5.merge(stanfold,identification,crawling)_120/irish_water_spaniel\n",
      "../data/5.merge(stanfold,identification,crawling)_120/irish_wolfhound\n",
      "../data/5.merge(stanfold,identification,crawling)_120/italian_greyhound\n",
      "../data/5.merge(stanfold,identification,crawling)_120/jackrusselterrier\n",
      "../data/5.merge(stanfold,identification,crawling)_120/japanesechin\n",
      "../data/5.merge(stanfold,identification,crawling)_120/japanesespitz\n",
      "../data/5.merge(stanfold,identification,crawling)_120/jindodog\n",
      "../data/5.merge(stanfold,identification,crawling)_120/kerry_blue_terrier\n",
      "../data/5.merge(stanfold,identification,crawling)_120/komondor\n",
      "../data/5.merge(stanfold,identification,crawling)_120/kuvasz\n",
      "../data/5.merge(stanfold,identification,crawling)_120/labrador_retriever\n",
      "../data/5.merge(stanfold,identification,crawling)_120/lakeland_terrier\n",
      "../data/5.merge(stanfold,identification,crawling)_120/lhasaapso\n",
      "../data/5.merge(stanfold,identification,crawling)_120/maltese\n",
      "../data/5.merge(stanfold,identification,crawling)_120/manchesterterriers\n",
      "../data/5.merge(stanfold,identification,crawling)_120/mastiff\n",
      "../data/5.merge(stanfold,identification,crawling)_120/miniature_pinscher\n",
      "../data/5.merge(stanfold,identification,crawling)_120/miniature_schnauzer\n",
      "../data/5.merge(stanfold,identification,crawling)_120/newfoundland\n",
      "../data/5.merge(stanfold,identification,crawling)_120/norfolk_terrier\n",
      "../data/5.merge(stanfold,identification,crawling)_120/norwegian_elkhound\n",
      "../data/5.merge(stanfold,identification,crawling)_120/norwich_terrier\n",
      "../data/5.merge(stanfold,identification,crawling)_120/old_english_sheepdog\n",
      "../data/5.merge(stanfold,identification,crawling)_120/papillon\n",
      "../data/5.merge(stanfold,identification,crawling)_120/pekingese\n",
      "../data/5.merge(stanfold,identification,crawling)_120/pointer\n",
      "../data/5.merge(stanfold,identification,crawling)_120/pomeranian\n",
      "../data/5.merge(stanfold,identification,crawling)_120/poodle\n",
      "../data/5.merge(stanfold,identification,crawling)_120/poongsandog\n",
      "../data/5.merge(stanfold,identification,crawling)_120/pug\n",
      "../data/5.merge(stanfold,identification,crawling)_120/puli\n",
      "../data/5.merge(stanfold,identification,crawling)_120/rhodesian_ridgeback\n",
      "../data/5.merge(stanfold,identification,crawling)_120/rottweiler\n",
      "../data/5.merge(stanfold,identification,crawling)_120/saint_bernard\n",
      "../data/5.merge(stanfold,identification,crawling)_120/saluki\n",
      "../data/5.merge(stanfold,identification,crawling)_120/samoyed\n",
      "../data/5.merge(stanfold,identification,crawling)_120/sapsaree\n",
      "../data/5.merge(stanfold,identification,crawling)_120/scottishterrier\n",
      "../data/5.merge(stanfold,identification,crawling)_120/sealyham_terrier\n",
      "../data/5.merge(stanfold,identification,crawling)_120/shetland_sheepdog\n",
      "../data/5.merge(stanfold,identification,crawling)_120/shiba\n",
      "../data/5.merge(stanfold,identification,crawling)_120/shih-tzu\n",
      "../data/5.merge(stanfold,identification,crawling)_120/siberian_husky\n",
      "../data/5.merge(stanfold,identification,crawling)_120/silky_terrier\n",
      "../data/5.merge(stanfold,identification,crawling)_120/skyeterrier\n",
      "../data/5.merge(stanfold,identification,crawling)_120/soft-coated_wheaten_terrier\n",
      "../data/5.merge(stanfold,identification,crawling)_120/southrussianovtcharka\n",
      "../data/5.merge(stanfold,identification,crawling)_120/staffordshire_bullterrier\n",
      "../data/5.merge(stanfold,identification,crawling)_120/sussex_spaniel\n",
      "../data/5.merge(stanfold,identification,crawling)_120/tibetanspaniel\n",
      "../data/5.merge(stanfold,identification,crawling)_120/tibetan_mastiff\n",
      "../data/5.merge(stanfold,identification,crawling)_120/tibetan_terrier\n",
      "../data/5.merge(stanfold,identification,crawling)_120/toymanchesterterrier\n",
      "../data/5.merge(stanfold,identification,crawling)_120/vizsla\n",
      "../data/5.merge(stanfold,identification,crawling)_120/weimaraner\n",
      "../data/5.merge(stanfold,identification,crawling)_120/welshcorgi\n",
      "../data/5.merge(stanfold,identification,crawling)_120/welshterrier\n",
      "../data/5.merge(stanfold,identification,crawling)_120/west_highland_white_terrier\n",
      "../data/5.merge(stanfold,identification,crawling)_120/whippet\n",
      "../data/5.merge(stanfold,identification,crawling)_120/wirehairedpointinggriffon\n",
      "../data/5.merge(stanfold,identification,crawling)_120/yorkshire_terrier\n"
     ]
    }
   ],
   "source": [
    "import tensorflow as tf\n",
    "import glob\n",
    "\n",
    "for dirname in final_dir_list:\n",
    "    print(dirname)\n",
    "    for i, image_name in enumerate(os.listdir(dirname)):\n",
    "\n",
    "#         print(i, image_name)\n",
    "        image_path = os.path.join(dirname, image_name)\n",
    "\n",
    "    with tf.Graph().as_default():\n",
    "\n",
    "        image_contents = tf.read_file(image_path)\n",
    "\n",
    "        image = tf.image.decode_jpeg(image_contents, channels=3)\n",
    "\n",
    "        # init_op = tf.initialize_all_tables()\n",
    "\n",
    "        with tf.Session() as sess:\n",
    "\n",
    "            # sess.run(init_op)\n",
    "            try:\n",
    "                sess.run(tf.global_variables_initializer())\n",
    "                tmp = sess.run(image)\n",
    "\n",
    "            except Exception as err:\n",
    "              # print(err)\n",
    "                print(\"[illegal file : \", image_name, \" will be removed.\\n\")\n",
    "                os.remove(image_path)"
   ]
  },
  {
   "cell_type": "code",
   "execution_count": 0,
   "metadata": {
    "colab": {},
    "colab_type": "code",
    "id": "_S-9Qz3KXq1_"
   },
   "outputs": [],
   "source": []
  },
  {
   "cell_type": "code",
   "execution_count": null,
   "metadata": {},
   "outputs": [],
   "source": []
  }
 ],
 "metadata": {
  "kernelspec": {
   "display_name": "Python 3",
   "language": "python",
   "name": "python3"
  },
  "language_info": {
   "codemirror_mode": {
    "name": "ipython",
    "version": 3
   },
   "file_extension": ".py",
   "mimetype": "text/x-python",
   "name": "python",
   "nbconvert_exporter": "python",
   "pygments_lexer": "ipython3",
   "version": "3.7.6"
  },
  "toc": {
   "base_numbering": 1,
   "nav_menu": {},
   "number_sections": false,
   "sideBar": true,
   "skip_h1_title": false,
   "title_cell": "Table of Contents",
   "title_sidebar": "Contents",
   "toc_cell": false,
   "toc_position": {},
   "toc_section_display": true,
   "toc_window_display": false
  }
 },
 "nbformat": 4,
 "nbformat_minor": 2
}
